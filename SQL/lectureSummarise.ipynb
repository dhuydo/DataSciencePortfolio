{
 "cells": [
  {
   "cell_type": "markdown",
   "id": "069cf2ee-297d-4898-9b9c-b0d57b86fc44",
   "metadata": {},
   "source": [
    "## <b><span style=\"color:green\">DATA DEFINITION LANGUAGE STATEMENTS (DDL)</span></b>\n",
    "---\n",
    "### <b>(i) CREATE</b>\n",
    "<code><b>CREATE TABLE</b></code> author(\\\n",
    "      author_id CHAR(2) <code>PRIMARY KEY</code> NOT NULL\\\n",
    "      last_name VARCHAR(24) NOT NULL\\\n",
    "    );\n",
    "\n",
    "### <b>(ii) ALTER</b>\n",
    "<code><b>ALTER TABLE</b></code> author\\\n",
    "      <b>ADD COLUMN</b> ISBN INTEGER\\\n",
    "      <b>ADD COLUMN</b> ...  ...;\\\n",
    "<code><b>ALTER TABLE</b></code> author\\\n",
    "      <b>ALTER COLUMN</b> ISBN <b>SET DATA TYPE</b> CHAR(20);\\\n",
    "<code><b>ALTER TABLE</b></code> author\\\n",
    "      <b>DROP COLUMN</b> ISBN;\\\n",
    "<code><b>ALTER TABLE</b></code> author\\\n",
    "      <b>RENAME COLUMN</b> ISBN <b>TO</b> ISBN_adjust;\n",
    "\n",
    "### <b>(iii) DROP</b>\n",
    "<code><b>DROP TABLE</b></code> author;       <u># Delete entire table</u>\n",
    "\n",
    "### <b>(iv) TRUNCATE</b>\n",
    "<code><b>TRUNCATE TABLE</b></code> author IMMIDIATE;       <u># Delete content of table</u>\n",
    "\n",
    "\n"
   ]
  },
  {
   "cell_type": "markdown",
   "id": "71710f21-5f5e-4064-89c9-959f01a19633",
   "metadata": {},
   "source": [
    "## <b><span style='color:green'>DATA MANIPULATION LANGUAGE STATEMENTS (DML)</span></b>\n",
    "----------------------------------------------------------------------------------\n",
    "### <b>(i) SELECT</b>\n",
    "<code><b>SELECT</b></code> * <code><b>FROM</b></code> data WHERE SCORE <code><b>BETWEEN</b></code> 100 AND 200;\\\n",
    "<code><b>SELECT</b></code> * <code><b>FROM</b></code> data WHERE ID <code><b>IN</b></code> ('IX','X');\\\n",
    "<code><b>SELECT</b></code> * <code><b>FROM</b></code> data WHERE AUTHOR <code><b>LIKE</b></code> 'R%';     <u># Name start with R</u>\n",
    "\n",
    "<code><b>SELECT</b></code> * <code><b>FROM</b></code> data <code><b>ORDER BY</b></code> ID <code><b>DESC</b></code>;\\\n",
    "<code><b>SELECT</b></code> * <code><b>FROM</b></code> data <code><b>ORDER BY</b></code> 2;     <u># Column 2</u>\n",
    "\n",
    "<code><b>SELECT DISTINCT</b></code> ID <code><b>FROM</b></code> data;\\\n",
    "<code><b>SELECT</b></code> ID, COUNT(ID) <code><b>FROM</b></code> data <code><b>GROUP BY</b></code> ID <code><b>HAVING</b></code> COUNT(ID)>2;\n",
    "\n",
    "### <b>(ii) INSERT</b>\n",
    "<code><b>INSERT INTO</b></code> table_name('col1',...)\\\n",
    "<code><b>VALUES</b></code> (...);\n",
    "\n",
    "### <b>(iii) DELETE</b>\n",
    "<code><b>DELETE FROM</b></code> table_name\\\n",
    "<code><b>WHERE</b></code> CONDITIONS;"
   ]
  },
  {
   "cell_type": "markdown",
   "id": "a84ad0b4-1317-4ea9-8f06-c8283b9fec1f",
   "metadata": {},
   "source": [
    "## <b><span style='color:green'>BUILD IN FUNCTIONS IN SQL</span></b>\n",
    "----------------------------------------------------------------------------------\n",
    "|AGGREGATE FUNCTIONS|SCALAR FUNCTIONS|DATE TIME FUNCTIONS|\n",
    "|-------------------|----------------|-------------------|\n",
    "|SUM, AVG, MIN, MAX|ROUND, LENGTH, UCASE, LCASE|YEAR, MONTH, DAY, WEEK, HOUR, MINUTE, SECOND, DAYOFYEAR, DAYOFMONTH, DAYOFWEEK, CURRENT_DATE, CURRENT_TIME|\n",
    "\n",
    "\n"
   ]
  },
  {
   "cell_type": "markdown",
   "id": "42b65b63-67e8-4383-93db-c750bc42692e",
   "metadata": {},
   "source": [
    "## <b><span style='color:green'>OTHER FUNCTIONS IN SQL</span></b>\n",
    "---\n",
    "![](get_ListofTable.png)"
   ]
  },
  {
   "cell_type": "markdown",
   "id": "f565fedc-7c4f-489a-ad1a-3023b02fbab7",
   "metadata": {},
   "source": [
    "---\n",
    "# <b><span style='color:blue'>2. SUB-QUERIES</span></b>\n",
    "---\n",
    "### <b>CROSS JOIN (CARTESIAN JOIN)</b>\n",
    "<code><b>SELECT</b></code> * <code><b>FROM</b></code> data <code><b>WHERE</b></code> SALARY < (<code><b>SELECT</b></code> AVG(SALARY) <code><b>FROM</b></code> data);\\\n",
    "### <b>INNER JOIN</b>\n",
    "<code><b>SELECT</b></code> D1.EMP_ID, D2.DEP_NAME <code><b>FROM</b></code> data1 D1, data2 D2 <code><b>WHERE</b></code> D1.EMP_ID = D2.EMP_ID;\\\n",
    "\n",
    "\n",
    "\n",
    "\n",
    "\n",
    "\n",
    "\n"
   ]
  },
  {
   "cell_type": "markdown",
   "id": "7bfa568c-1f5d-412e-8761-dc3c9bb3fe01",
   "metadata": {},
   "source": [
    "---\n",
    "# <b><span style='color:blue'>3. SQL API</span></b>\n",
    "---\n",
    "\n",
    "|||\n",
    "|-|-|\n",
    "|![](SQL_API_queries.png)|![](APIs.png)|\n",
    "|![](DB_API.png)|![](Connnection_Method.png)|\n",
    "|![](Cursor_Method.png)|![](Write_Code.png)|\n"
   ]
  },
  {
   "cell_type": "markdown",
   "id": "339913da-6f6b-42b2-8e87-b7d7a05acefc",
   "metadata": {},
   "source": [
    "## <b><span style='color:green'>CODE TO CONNECT AND EXECUTE SQL QUERIES BY SQLITE3 IN PYTHON</span></b>\n",
    "---"
   ]
  },
  {
   "cell_type": "code",
   "execution_count": 1,
   "id": "9dbe6645-cd3b-4947-a174-6c5a3946a153",
   "metadata": {},
   "outputs": [],
   "source": [
    "# CONNECT TO SQL DATABASE\n",
    "import os\n",
    "import sqlite3\n",
    "\n",
    "conn = sqlite3.connect('INSTRUCTOR.db')\n",
    "cursor_obj = conn.cursor()"
   ]
  },
  {
   "cell_type": "code",
   "execution_count": 2,
   "id": "d671fddb-4f63-433a-93ab-24163b411faf",
   "metadata": {},
   "outputs": [
    {
     "name": "stdout",
     "output_type": "stream",
     "text": [
      "Table is ready\n"
     ]
    }
   ],
   "source": [
    "# CREATE TABLE\n",
    "cursor_obj.execute('DROP TABLE IF EXISTS INSTRUCTOR')\n",
    "cursor_obj.execute('''CREATE TABLE INSTRUCTOR(ID INTEGER PRIMARY KEY NOT NULL, FNAME VARCHAR(20) NOT NULL, \n",
    "LNAME VARCHAR(20) NOT NULL, CITY VARCHAR(20) NOT NULL, CCODE CHARACTER(2));''')\n",
    "print('Table is ready')\n"
   ]
  },
  {
   "cell_type": "code",
   "execution_count": 3,
   "id": "bc50dbae-0518-4989-b5a3-ea1e87a6af13",
   "metadata": {},
   "outputs": [
    {
     "name": "stdout",
     "output_type": "stream",
     "text": [
      "[(1, 'Rav', 'Ahuja', 'Toronto', 'CA'), (2, 'Raul', 'Chong', 'Markham', 'CA')]\n",
      "[('Rav',), ('Raul',), ('Hima',)]\n"
     ]
    }
   ],
   "source": [
    "# EXECUTE QUERIES\n",
    "cursor_obj.execute('''INSERT INTO INSTRUCTOR VALUES(1, 'Rav', 'Ahuja', 'Toronto', 'CA'), \n",
    "(2, 'Raul', 'Chong', 'Markham', 'CA'), (3, 'Hima', 'Vasudevan', 'Chicago', 'US');''')\n",
    "cursor_obj.execute('''SELECT * FROM INSTRUCTOR''')\n",
    "op = cursor_obj.fetchmany(2)\n",
    "print(op)\n",
    "cursor_obj.execute('''SELECT FNAME FROM INSTRUCTOR''')\n",
    "op = cursor_obj.fetchall()\n",
    "print(op)"
   ]
  },
  {
   "cell_type": "code",
   "execution_count": 4,
   "id": "58855368-d357-4cec-b6a3-f0f7c6ba19bf",
   "metadata": {},
   "outputs": [
    {
     "data": {
      "text/html": [
       "<div>\n",
       "<style scoped>\n",
       "    .dataframe tbody tr th:only-of-type {\n",
       "        vertical-align: middle;\n",
       "    }\n",
       "\n",
       "    .dataframe tbody tr th {\n",
       "        vertical-align: top;\n",
       "    }\n",
       "\n",
       "    .dataframe thead th {\n",
       "        text-align: right;\n",
       "    }\n",
       "</style>\n",
       "<table border=\"1\" class=\"dataframe\">\n",
       "  <thead>\n",
       "    <tr style=\"text-align: right;\">\n",
       "      <th></th>\n",
       "      <th>ID</th>\n",
       "      <th>FNAME</th>\n",
       "      <th>LNAME</th>\n",
       "      <th>CITY</th>\n",
       "      <th>CCODE</th>\n",
       "    </tr>\n",
       "  </thead>\n",
       "  <tbody>\n",
       "    <tr>\n",
       "      <th>0</th>\n",
       "      <td>1</td>\n",
       "      <td>Rav</td>\n",
       "      <td>Ahuja</td>\n",
       "      <td>Toronto</td>\n",
       "      <td>CA</td>\n",
       "    </tr>\n",
       "    <tr>\n",
       "      <th>1</th>\n",
       "      <td>2</td>\n",
       "      <td>Raul</td>\n",
       "      <td>Chong</td>\n",
       "      <td>Markham</td>\n",
       "      <td>CA</td>\n",
       "    </tr>\n",
       "    <tr>\n",
       "      <th>2</th>\n",
       "      <td>3</td>\n",
       "      <td>Hima</td>\n",
       "      <td>Vasudevan</td>\n",
       "      <td>Chicago</td>\n",
       "      <td>US</td>\n",
       "    </tr>\n",
       "  </tbody>\n",
       "</table>\n",
       "</div>"
      ],
      "text/plain": [
       "   ID FNAME      LNAME     CITY CCODE\n",
       "0   1   Rav      Ahuja  Toronto    CA\n",
       "1   2  Raul      Chong  Markham    CA\n",
       "2   3  Hima  Vasudevan  Chicago    US"
      ]
     },
     "metadata": {},
     "output_type": "display_data"
    }
   ],
   "source": [
    "# RETRIEVE DATA INTO DATAFRAME\n",
    "import pandas as pd\n",
    "df = pd.read_sql_query('SELECT * FROM INSTRUCTOR', conn)\n",
    "display(df)"
   ]
  },
  {
   "cell_type": "code",
   "execution_count": 5,
   "id": "8d050b3b-6ff9-4ab6-8419-fc6e31872e5a",
   "metadata": {},
   "outputs": [],
   "source": [
    "# CLOSE CONNECTION\n",
    "conn.close()"
   ]
  },
  {
   "cell_type": "markdown",
   "id": "f4717094-6e16-4b8e-8078-eb342a34df7e",
   "metadata": {},
   "source": [
    "---\n",
    "# <b><span style='color:blue'>4. IMB DB2 DATABASE</span></b>\n",
    "---\n",
    "### <span style='color:red'>library: Ibm_db</span></b>\n",
    "|||\n",
    "|-|-|\n",
    "|![](ibm_db2_conn.png)|![](ibm_db2_conn_code.png)|"
   ]
  },
  {
   "cell_type": "markdown",
   "id": "e8a9ee2d-9bc6-4e38-a53e-34744a4d3a1b",
   "metadata": {},
   "source": [
    "---\n",
    "# <b><span style='color:blue'>5. SQL MAGIC</spand></b>\n",
    "---"
   ]
  },
  {
   "cell_type": "code",
   "execution_count": 6,
   "id": "30092d1d-8998-4300-ae17-9531c62378b9",
   "metadata": {},
   "outputs": [],
   "source": [
    "import csv, sqlite3\n",
    "conn = sqlite3.connect('SQLiteMagic.db')\n",
    "cur = conn.cursor()"
   ]
  },
  {
   "cell_type": "code",
   "execution_count": 16,
   "id": "098977df-5c58-4240-aeb3-4ec08696ea0c",
   "metadata": {},
   "outputs": [],
   "source": [
    "#!pip install ipython-sql -q\n",
    "# pip install --only-binary :all: greenlet\n",
    "%load_ext sql"
   ]
  },
  {
   "cell_type": "code",
   "execution_count": 17,
   "id": "7d277c5e-0722-4caa-ba9f-25322e9ce1e4",
   "metadata": {},
   "outputs": [],
   "source": [
    "# Connect to created SQL database\n",
    "%sql sqlite:///SQLiteMagic.db"
   ]
  },
  {
   "cell_type": "code",
   "execution_count": null,
   "id": "15ede595-bdd7-4bdc-880c-f6cf3ff272c7",
   "metadata": {},
   "outputs": [],
   "source": [
    "# Create table"
   ]
  },
  {
   "cell_type": "code",
   "execution_count": 18,
   "id": "95ae31e9-4397-4687-8d8c-94a61cbaedbe",
   "metadata": {},
   "outputs": [
    {
     "name": "stdout",
     "output_type": "stream",
     "text": [
      " * sqlite:///SQLiteMagic.db\n",
      "Done.\n",
      "99 rows affected.\n"
     ]
    },
    {
     "data": {
      "text/plain": [
       "[]"
      ]
     },
     "execution_count": 18,
     "metadata": {},
     "output_type": "execute_result"
    }
   ],
   "source": [
    "%%sql\n",
    "\n",
    "CREATE TABLE INTERNATIONAL_STUDENT_TEST_SCORES (\n",
    "\tcountry VARCHAR(50),\n",
    "\tfirst_name VARCHAR(50),\n",
    "\tlast_name VARCHAR(50),\n",
    "\ttest_score INT\n",
    ");\n",
    "INSERT INTO INTERNATIONAL_STUDENT_TEST_SCORES (country, first_name, last_name, test_score)\n",
    "VALUES\n",
    "('United States', 'Marshall', 'Bernadot', 54),\n",
    "('Ghana', 'Celinda', 'Malkin', 51),\n",
    "('Ukraine', 'Guillermo', 'Furze', 53),\n",
    "('Greece', 'Aharon', 'Tunnow', 48),\n",
    "('Russia', 'Bail', 'Goodwin', 46),\n",
    "('Poland', 'Cole', 'Winteringham', 49),\n",
    "('Sweden', 'Emlyn', 'Erricker', 55),\n",
    "('Russia', 'Cathee', 'Sivewright', 49),\n",
    "('China', 'Barny', 'Ingerson', 57),\n",
    "('Uganda', 'Sharla', 'Papaccio', 55),\n",
    "('China', 'Stella', 'Youens', 51),\n",
    "('Poland', 'Julio', 'Buesden', 48),\n",
    "('United States', 'Tiffie', 'Cosely', 58),\n",
    "('Poland', 'Auroora', 'Stiffell', 45),\n",
    "('China', 'Clarita', 'Huet', 52),\n",
    "('Poland', 'Shannon', 'Goulden', 45),\n",
    "('Philippines', 'Emylee', 'Privost', 50),\n",
    "('France', 'Madelina', 'Burk', 49),\n",
    "('China', 'Saunderson', 'Root', 58),\n",
    "('Indonesia', 'Bo', 'Waring', 55),\n",
    "('China', 'Hollis', 'Domotor', 45),\n",
    "('Russia', 'Robbie', 'Collip', 46),\n",
    "('Philippines', 'Davon', 'Donisi', 46),\n",
    "('China', 'Cristabel', 'Radeliffe', 48),\n",
    "('China', 'Wallis', 'Bartleet', 58),\n",
    "('Moldova', 'Arleen', 'Stailey', 38),\n",
    "('Ireland', 'Mendel', 'Grumble', 58),\n",
    "('China', 'Sallyann', 'Exley', 51),\n",
    "('Mexico', 'Kain', 'Swaite', 46),\n",
    "('Indonesia', 'Alonso', 'Bulteel', 45),\n",
    "('Armenia', 'Anatol', 'Tankus', 51),\n",
    "('Indonesia', 'Coralyn', 'Dawkins', 48),\n",
    "('China', 'Deanne', 'Edwinson', 45),\n",
    "('China', 'Georgiana', 'Epple', 51),\n",
    "('Portugal', 'Bartlet', 'Breese', 56),\n",
    "('Azerbaijan', 'Idalina', 'Lukash', 50),\n",
    "('France', 'Livvie', 'Flory', 54),\n",
    "('Malaysia', 'Nonie', 'Borit', 48),\n",
    "('Indonesia', 'Clio', 'Mugg', 47),\n",
    "('Brazil', 'Westley', 'Measor', 48),\n",
    "('Philippines', 'Katrinka', 'Sibbert', 51),\n",
    "('Poland', 'Valentia', 'Mounch', 50),\n",
    "('Norway', 'Sheilah', 'Hedditch', 53),\n",
    "('Papua New Guinea', 'Itch', 'Jubb', 50),\n",
    "('Latvia', 'Stesha', 'Garnson', 53),\n",
    "('Canada', 'Cristionna', 'Wadmore', 46),\n",
    "('China', 'Lianna', 'Gatward', 43),\n",
    "('Guatemala', 'Tanney', 'Vials', 48),\n",
    "('France', 'Alma', 'Zavittieri', 44),\n",
    "('China', 'Alvira', 'Tamas', 50),\n",
    "('United States', 'Shanon', 'Peres', 45),\n",
    "('Sweden', 'Maisey', 'Lynas', 53),\n",
    "('Indonesia', 'Kip', 'Hothersall', 46),\n",
    "('China', 'Cash', 'Landis', 48),\n",
    "('Panama', 'Kennith', 'Digance', 45),\n",
    "('China', 'Ulberto', 'Riggeard', 48),\n",
    "('Switzerland', 'Judy', 'Gilligan', 49),\n",
    "('Philippines', 'Tod', 'Trevaskus', 52),\n",
    "('Brazil', 'Herold', 'Heggs', 44),\n",
    "('Latvia', 'Verney', 'Note', 50),\n",
    "('Poland', 'Temp', 'Ribey', 50),\n",
    "('China', 'Conroy', 'Egdal', 48),\n",
    "('Japan', 'Gabie', 'Alessandone', 47),\n",
    "('Ukraine', 'Devlen', 'Chaperlin', 54),\n",
    "('France', 'Babbette', 'Turner', 51),\n",
    "('Czech Republic', 'Virgil', 'Scotney', 52),\n",
    "('Tajikistan', 'Zorina', 'Bedow', 49),\n",
    "('China', 'Aidan', 'Rudeyeard', 50),\n",
    "('Ireland', 'Saunder', 'MacLice', 48),\n",
    "('France', 'Waly', 'Brunstan', 53),\n",
    "('China', 'Gisele', 'Enns', 52),\n",
    "('Peru', 'Mina', 'Winchester', 48),\n",
    "('Japan', 'Torie', 'MacShirrie', 50),\n",
    "('Russia', 'Benjamen', 'Kenford', 51),\n",
    "('China', 'Etan', 'Burn', 53),\n",
    "('Russia', 'Merralee', 'Chaperlin', 38),\n",
    "('Indonesia', 'Lanny', 'Malam', 49),\n",
    "('Canada', 'Wilhelm', 'Deeprose', 54),\n",
    "('Czech Republic', 'Lari', 'Hillhouse', 48),\n",
    "('China', 'Ossie', 'Woodley', 52),\n",
    "('Macedonia', 'April', 'Tyer', 50),\n",
    "('Vietnam', 'Madelon', 'Dansey', 53),\n",
    "('Ukraine', 'Korella', 'McNamee', 52),\n",
    "('Jamaica', 'Linnea', 'Cannam', 43),\n",
    "('China', 'Mart', 'Coling', 52),\n",
    "('Indonesia', 'Marna', 'Causbey', 47),\n",
    "('China', 'Berni', 'Daintier', 55),\n",
    "('Poland', 'Cynthia', 'Hassell', 49),\n",
    "('Canada', 'Carma', 'Schule', 49),\n",
    "('Indonesia', 'Malia', 'Blight', 48),\n",
    "('China', 'Paulo', 'Seivertsen', 47),\n",
    "('Niger', 'Kaylee', 'Hearley', 54),\n",
    "('Japan', 'Maure', 'Jandak', 46),\n",
    "('Argentina', 'Foss', 'Feavers', 45),\n",
    "('Venezuela', 'Ron', 'Leggitt', 60),\n",
    "('Russia', 'Flint', 'Gokes', 40),\n",
    "('China', 'Linet', 'Conelly', 52),\n",
    "('Philippines', 'Nikolas', 'Birtwell', 57),\n",
    "('Australia', 'Eduard', 'Leipelt', 53)"
   ]
  },
  {
   "cell_type": "code",
   "execution_count": 19,
   "id": "3bbb0818-8402-435a-9069-b3ac6587b693",
   "metadata": {},
   "outputs": [
    {
     "name": "stdout",
     "output_type": "stream",
     "text": [
      " * sqlite:///SQLiteMagic.db\n",
      "Done.\n"
     ]
    },
    {
     "data": {
      "text/html": [
       "<table>\n",
       "    <thead>\n",
       "        <tr>\n",
       "            <th>country</th>\n",
       "            <th>first_name</th>\n",
       "            <th>last_name</th>\n",
       "            <th>test_score</th>\n",
       "        </tr>\n",
       "    </thead>\n",
       "    <tbody>\n",
       "        <tr>\n",
       "            <td>United States</td>\n",
       "            <td>Marshall</td>\n",
       "            <td>Bernadot</td>\n",
       "            <td>54</td>\n",
       "        </tr>\n",
       "        <tr>\n",
       "            <td>Ghana</td>\n",
       "            <td>Celinda</td>\n",
       "            <td>Malkin</td>\n",
       "            <td>51</td>\n",
       "        </tr>\n",
       "        <tr>\n",
       "            <td>Ukraine</td>\n",
       "            <td>Guillermo</td>\n",
       "            <td>Furze</td>\n",
       "            <td>53</td>\n",
       "        </tr>\n",
       "        <tr>\n",
       "            <td>Greece</td>\n",
       "            <td>Aharon</td>\n",
       "            <td>Tunnow</td>\n",
       "            <td>48</td>\n",
       "        </tr>\n",
       "        <tr>\n",
       "            <td>Russia</td>\n",
       "            <td>Bail</td>\n",
       "            <td>Goodwin</td>\n",
       "            <td>46</td>\n",
       "        </tr>\n",
       "        <tr>\n",
       "            <td>Poland</td>\n",
       "            <td>Cole</td>\n",
       "            <td>Winteringham</td>\n",
       "            <td>49</td>\n",
       "        </tr>\n",
       "        <tr>\n",
       "            <td>Sweden</td>\n",
       "            <td>Emlyn</td>\n",
       "            <td>Erricker</td>\n",
       "            <td>55</td>\n",
       "        </tr>\n",
       "        <tr>\n",
       "            <td>Russia</td>\n",
       "            <td>Cathee</td>\n",
       "            <td>Sivewright</td>\n",
       "            <td>49</td>\n",
       "        </tr>\n",
       "        <tr>\n",
       "            <td>China</td>\n",
       "            <td>Barny</td>\n",
       "            <td>Ingerson</td>\n",
       "            <td>57</td>\n",
       "        </tr>\n",
       "        <tr>\n",
       "            <td>Uganda</td>\n",
       "            <td>Sharla</td>\n",
       "            <td>Papaccio</td>\n",
       "            <td>55</td>\n",
       "        </tr>\n",
       "        <tr>\n",
       "            <td>China</td>\n",
       "            <td>Stella</td>\n",
       "            <td>Youens</td>\n",
       "            <td>51</td>\n",
       "        </tr>\n",
       "        <tr>\n",
       "            <td>Poland</td>\n",
       "            <td>Julio</td>\n",
       "            <td>Buesden</td>\n",
       "            <td>48</td>\n",
       "        </tr>\n",
       "        <tr>\n",
       "            <td>United States</td>\n",
       "            <td>Tiffie</td>\n",
       "            <td>Cosely</td>\n",
       "            <td>58</td>\n",
       "        </tr>\n",
       "        <tr>\n",
       "            <td>Poland</td>\n",
       "            <td>Auroora</td>\n",
       "            <td>Stiffell</td>\n",
       "            <td>45</td>\n",
       "        </tr>\n",
       "        <tr>\n",
       "            <td>China</td>\n",
       "            <td>Clarita</td>\n",
       "            <td>Huet</td>\n",
       "            <td>52</td>\n",
       "        </tr>\n",
       "        <tr>\n",
       "            <td>Poland</td>\n",
       "            <td>Shannon</td>\n",
       "            <td>Goulden</td>\n",
       "            <td>45</td>\n",
       "        </tr>\n",
       "        <tr>\n",
       "            <td>Philippines</td>\n",
       "            <td>Emylee</td>\n",
       "            <td>Privost</td>\n",
       "            <td>50</td>\n",
       "        </tr>\n",
       "        <tr>\n",
       "            <td>France</td>\n",
       "            <td>Madelina</td>\n",
       "            <td>Burk</td>\n",
       "            <td>49</td>\n",
       "        </tr>\n",
       "        <tr>\n",
       "            <td>China</td>\n",
       "            <td>Saunderson</td>\n",
       "            <td>Root</td>\n",
       "            <td>58</td>\n",
       "        </tr>\n",
       "        <tr>\n",
       "            <td>Indonesia</td>\n",
       "            <td>Bo</td>\n",
       "            <td>Waring</td>\n",
       "            <td>55</td>\n",
       "        </tr>\n",
       "        <tr>\n",
       "            <td>China</td>\n",
       "            <td>Hollis</td>\n",
       "            <td>Domotor</td>\n",
       "            <td>45</td>\n",
       "        </tr>\n",
       "        <tr>\n",
       "            <td>Russia</td>\n",
       "            <td>Robbie</td>\n",
       "            <td>Collip</td>\n",
       "            <td>46</td>\n",
       "        </tr>\n",
       "        <tr>\n",
       "            <td>Philippines</td>\n",
       "            <td>Davon</td>\n",
       "            <td>Donisi</td>\n",
       "            <td>46</td>\n",
       "        </tr>\n",
       "        <tr>\n",
       "            <td>China</td>\n",
       "            <td>Cristabel</td>\n",
       "            <td>Radeliffe</td>\n",
       "            <td>48</td>\n",
       "        </tr>\n",
       "        <tr>\n",
       "            <td>China</td>\n",
       "            <td>Wallis</td>\n",
       "            <td>Bartleet</td>\n",
       "            <td>58</td>\n",
       "        </tr>\n",
       "        <tr>\n",
       "            <td>Moldova</td>\n",
       "            <td>Arleen</td>\n",
       "            <td>Stailey</td>\n",
       "            <td>38</td>\n",
       "        </tr>\n",
       "        <tr>\n",
       "            <td>Ireland</td>\n",
       "            <td>Mendel</td>\n",
       "            <td>Grumble</td>\n",
       "            <td>58</td>\n",
       "        </tr>\n",
       "        <tr>\n",
       "            <td>China</td>\n",
       "            <td>Sallyann</td>\n",
       "            <td>Exley</td>\n",
       "            <td>51</td>\n",
       "        </tr>\n",
       "        <tr>\n",
       "            <td>Mexico</td>\n",
       "            <td>Kain</td>\n",
       "            <td>Swaite</td>\n",
       "            <td>46</td>\n",
       "        </tr>\n",
       "        <tr>\n",
       "            <td>Indonesia</td>\n",
       "            <td>Alonso</td>\n",
       "            <td>Bulteel</td>\n",
       "            <td>45</td>\n",
       "        </tr>\n",
       "        <tr>\n",
       "            <td>Armenia</td>\n",
       "            <td>Anatol</td>\n",
       "            <td>Tankus</td>\n",
       "            <td>51</td>\n",
       "        </tr>\n",
       "        <tr>\n",
       "            <td>Indonesia</td>\n",
       "            <td>Coralyn</td>\n",
       "            <td>Dawkins</td>\n",
       "            <td>48</td>\n",
       "        </tr>\n",
       "        <tr>\n",
       "            <td>China</td>\n",
       "            <td>Deanne</td>\n",
       "            <td>Edwinson</td>\n",
       "            <td>45</td>\n",
       "        </tr>\n",
       "        <tr>\n",
       "            <td>China</td>\n",
       "            <td>Georgiana</td>\n",
       "            <td>Epple</td>\n",
       "            <td>51</td>\n",
       "        </tr>\n",
       "        <tr>\n",
       "            <td>Portugal</td>\n",
       "            <td>Bartlet</td>\n",
       "            <td>Breese</td>\n",
       "            <td>56</td>\n",
       "        </tr>\n",
       "        <tr>\n",
       "            <td>Azerbaijan</td>\n",
       "            <td>Idalina</td>\n",
       "            <td>Lukash</td>\n",
       "            <td>50</td>\n",
       "        </tr>\n",
       "        <tr>\n",
       "            <td>France</td>\n",
       "            <td>Livvie</td>\n",
       "            <td>Flory</td>\n",
       "            <td>54</td>\n",
       "        </tr>\n",
       "        <tr>\n",
       "            <td>Malaysia</td>\n",
       "            <td>Nonie</td>\n",
       "            <td>Borit</td>\n",
       "            <td>48</td>\n",
       "        </tr>\n",
       "        <tr>\n",
       "            <td>Indonesia</td>\n",
       "            <td>Clio</td>\n",
       "            <td>Mugg</td>\n",
       "            <td>47</td>\n",
       "        </tr>\n",
       "        <tr>\n",
       "            <td>Brazil</td>\n",
       "            <td>Westley</td>\n",
       "            <td>Measor</td>\n",
       "            <td>48</td>\n",
       "        </tr>\n",
       "        <tr>\n",
       "            <td>Philippines</td>\n",
       "            <td>Katrinka</td>\n",
       "            <td>Sibbert</td>\n",
       "            <td>51</td>\n",
       "        </tr>\n",
       "        <tr>\n",
       "            <td>Poland</td>\n",
       "            <td>Valentia</td>\n",
       "            <td>Mounch</td>\n",
       "            <td>50</td>\n",
       "        </tr>\n",
       "        <tr>\n",
       "            <td>Norway</td>\n",
       "            <td>Sheilah</td>\n",
       "            <td>Hedditch</td>\n",
       "            <td>53</td>\n",
       "        </tr>\n",
       "        <tr>\n",
       "            <td>Papua New Guinea</td>\n",
       "            <td>Itch</td>\n",
       "            <td>Jubb</td>\n",
       "            <td>50</td>\n",
       "        </tr>\n",
       "        <tr>\n",
       "            <td>Latvia</td>\n",
       "            <td>Stesha</td>\n",
       "            <td>Garnson</td>\n",
       "            <td>53</td>\n",
       "        </tr>\n",
       "        <tr>\n",
       "            <td>Canada</td>\n",
       "            <td>Cristionna</td>\n",
       "            <td>Wadmore</td>\n",
       "            <td>46</td>\n",
       "        </tr>\n",
       "        <tr>\n",
       "            <td>China</td>\n",
       "            <td>Lianna</td>\n",
       "            <td>Gatward</td>\n",
       "            <td>43</td>\n",
       "        </tr>\n",
       "        <tr>\n",
       "            <td>Guatemala</td>\n",
       "            <td>Tanney</td>\n",
       "            <td>Vials</td>\n",
       "            <td>48</td>\n",
       "        </tr>\n",
       "        <tr>\n",
       "            <td>France</td>\n",
       "            <td>Alma</td>\n",
       "            <td>Zavittieri</td>\n",
       "            <td>44</td>\n",
       "        </tr>\n",
       "        <tr>\n",
       "            <td>China</td>\n",
       "            <td>Alvira</td>\n",
       "            <td>Tamas</td>\n",
       "            <td>50</td>\n",
       "        </tr>\n",
       "        <tr>\n",
       "            <td>United States</td>\n",
       "            <td>Shanon</td>\n",
       "            <td>Peres</td>\n",
       "            <td>45</td>\n",
       "        </tr>\n",
       "        <tr>\n",
       "            <td>Sweden</td>\n",
       "            <td>Maisey</td>\n",
       "            <td>Lynas</td>\n",
       "            <td>53</td>\n",
       "        </tr>\n",
       "        <tr>\n",
       "            <td>Indonesia</td>\n",
       "            <td>Kip</td>\n",
       "            <td>Hothersall</td>\n",
       "            <td>46</td>\n",
       "        </tr>\n",
       "        <tr>\n",
       "            <td>China</td>\n",
       "            <td>Cash</td>\n",
       "            <td>Landis</td>\n",
       "            <td>48</td>\n",
       "        </tr>\n",
       "        <tr>\n",
       "            <td>Panama</td>\n",
       "            <td>Kennith</td>\n",
       "            <td>Digance</td>\n",
       "            <td>45</td>\n",
       "        </tr>\n",
       "        <tr>\n",
       "            <td>China</td>\n",
       "            <td>Ulberto</td>\n",
       "            <td>Riggeard</td>\n",
       "            <td>48</td>\n",
       "        </tr>\n",
       "        <tr>\n",
       "            <td>Switzerland</td>\n",
       "            <td>Judy</td>\n",
       "            <td>Gilligan</td>\n",
       "            <td>49</td>\n",
       "        </tr>\n",
       "        <tr>\n",
       "            <td>Philippines</td>\n",
       "            <td>Tod</td>\n",
       "            <td>Trevaskus</td>\n",
       "            <td>52</td>\n",
       "        </tr>\n",
       "        <tr>\n",
       "            <td>Brazil</td>\n",
       "            <td>Herold</td>\n",
       "            <td>Heggs</td>\n",
       "            <td>44</td>\n",
       "        </tr>\n",
       "        <tr>\n",
       "            <td>Latvia</td>\n",
       "            <td>Verney</td>\n",
       "            <td>Note</td>\n",
       "            <td>50</td>\n",
       "        </tr>\n",
       "        <tr>\n",
       "            <td>Poland</td>\n",
       "            <td>Temp</td>\n",
       "            <td>Ribey</td>\n",
       "            <td>50</td>\n",
       "        </tr>\n",
       "        <tr>\n",
       "            <td>China</td>\n",
       "            <td>Conroy</td>\n",
       "            <td>Egdal</td>\n",
       "            <td>48</td>\n",
       "        </tr>\n",
       "        <tr>\n",
       "            <td>Japan</td>\n",
       "            <td>Gabie</td>\n",
       "            <td>Alessandone</td>\n",
       "            <td>47</td>\n",
       "        </tr>\n",
       "        <tr>\n",
       "            <td>Ukraine</td>\n",
       "            <td>Devlen</td>\n",
       "            <td>Chaperlin</td>\n",
       "            <td>54</td>\n",
       "        </tr>\n",
       "        <tr>\n",
       "            <td>France</td>\n",
       "            <td>Babbette</td>\n",
       "            <td>Turner</td>\n",
       "            <td>51</td>\n",
       "        </tr>\n",
       "        <tr>\n",
       "            <td>Czech Republic</td>\n",
       "            <td>Virgil</td>\n",
       "            <td>Scotney</td>\n",
       "            <td>52</td>\n",
       "        </tr>\n",
       "        <tr>\n",
       "            <td>Tajikistan</td>\n",
       "            <td>Zorina</td>\n",
       "            <td>Bedow</td>\n",
       "            <td>49</td>\n",
       "        </tr>\n",
       "        <tr>\n",
       "            <td>China</td>\n",
       "            <td>Aidan</td>\n",
       "            <td>Rudeyeard</td>\n",
       "            <td>50</td>\n",
       "        </tr>\n",
       "        <tr>\n",
       "            <td>Ireland</td>\n",
       "            <td>Saunder</td>\n",
       "            <td>MacLice</td>\n",
       "            <td>48</td>\n",
       "        </tr>\n",
       "        <tr>\n",
       "            <td>France</td>\n",
       "            <td>Waly</td>\n",
       "            <td>Brunstan</td>\n",
       "            <td>53</td>\n",
       "        </tr>\n",
       "        <tr>\n",
       "            <td>China</td>\n",
       "            <td>Gisele</td>\n",
       "            <td>Enns</td>\n",
       "            <td>52</td>\n",
       "        </tr>\n",
       "        <tr>\n",
       "            <td>Peru</td>\n",
       "            <td>Mina</td>\n",
       "            <td>Winchester</td>\n",
       "            <td>48</td>\n",
       "        </tr>\n",
       "        <tr>\n",
       "            <td>Japan</td>\n",
       "            <td>Torie</td>\n",
       "            <td>MacShirrie</td>\n",
       "            <td>50</td>\n",
       "        </tr>\n",
       "        <tr>\n",
       "            <td>Russia</td>\n",
       "            <td>Benjamen</td>\n",
       "            <td>Kenford</td>\n",
       "            <td>51</td>\n",
       "        </tr>\n",
       "        <tr>\n",
       "            <td>China</td>\n",
       "            <td>Etan</td>\n",
       "            <td>Burn</td>\n",
       "            <td>53</td>\n",
       "        </tr>\n",
       "        <tr>\n",
       "            <td>Russia</td>\n",
       "            <td>Merralee</td>\n",
       "            <td>Chaperlin</td>\n",
       "            <td>38</td>\n",
       "        </tr>\n",
       "        <tr>\n",
       "            <td>Indonesia</td>\n",
       "            <td>Lanny</td>\n",
       "            <td>Malam</td>\n",
       "            <td>49</td>\n",
       "        </tr>\n",
       "        <tr>\n",
       "            <td>Canada</td>\n",
       "            <td>Wilhelm</td>\n",
       "            <td>Deeprose</td>\n",
       "            <td>54</td>\n",
       "        </tr>\n",
       "        <tr>\n",
       "            <td>Czech Republic</td>\n",
       "            <td>Lari</td>\n",
       "            <td>Hillhouse</td>\n",
       "            <td>48</td>\n",
       "        </tr>\n",
       "        <tr>\n",
       "            <td>China</td>\n",
       "            <td>Ossie</td>\n",
       "            <td>Woodley</td>\n",
       "            <td>52</td>\n",
       "        </tr>\n",
       "        <tr>\n",
       "            <td>Macedonia</td>\n",
       "            <td>April</td>\n",
       "            <td>Tyer</td>\n",
       "            <td>50</td>\n",
       "        </tr>\n",
       "        <tr>\n",
       "            <td>Vietnam</td>\n",
       "            <td>Madelon</td>\n",
       "            <td>Dansey</td>\n",
       "            <td>53</td>\n",
       "        </tr>\n",
       "        <tr>\n",
       "            <td>Ukraine</td>\n",
       "            <td>Korella</td>\n",
       "            <td>McNamee</td>\n",
       "            <td>52</td>\n",
       "        </tr>\n",
       "        <tr>\n",
       "            <td>Jamaica</td>\n",
       "            <td>Linnea</td>\n",
       "            <td>Cannam</td>\n",
       "            <td>43</td>\n",
       "        </tr>\n",
       "        <tr>\n",
       "            <td>China</td>\n",
       "            <td>Mart</td>\n",
       "            <td>Coling</td>\n",
       "            <td>52</td>\n",
       "        </tr>\n",
       "        <tr>\n",
       "            <td>Indonesia</td>\n",
       "            <td>Marna</td>\n",
       "            <td>Causbey</td>\n",
       "            <td>47</td>\n",
       "        </tr>\n",
       "        <tr>\n",
       "            <td>China</td>\n",
       "            <td>Berni</td>\n",
       "            <td>Daintier</td>\n",
       "            <td>55</td>\n",
       "        </tr>\n",
       "        <tr>\n",
       "            <td>Poland</td>\n",
       "            <td>Cynthia</td>\n",
       "            <td>Hassell</td>\n",
       "            <td>49</td>\n",
       "        </tr>\n",
       "        <tr>\n",
       "            <td>Canada</td>\n",
       "            <td>Carma</td>\n",
       "            <td>Schule</td>\n",
       "            <td>49</td>\n",
       "        </tr>\n",
       "        <tr>\n",
       "            <td>Indonesia</td>\n",
       "            <td>Malia</td>\n",
       "            <td>Blight</td>\n",
       "            <td>48</td>\n",
       "        </tr>\n",
       "        <tr>\n",
       "            <td>China</td>\n",
       "            <td>Paulo</td>\n",
       "            <td>Seivertsen</td>\n",
       "            <td>47</td>\n",
       "        </tr>\n",
       "        <tr>\n",
       "            <td>Niger</td>\n",
       "            <td>Kaylee</td>\n",
       "            <td>Hearley</td>\n",
       "            <td>54</td>\n",
       "        </tr>\n",
       "        <tr>\n",
       "            <td>Japan</td>\n",
       "            <td>Maure</td>\n",
       "            <td>Jandak</td>\n",
       "            <td>46</td>\n",
       "        </tr>\n",
       "        <tr>\n",
       "            <td>Argentina</td>\n",
       "            <td>Foss</td>\n",
       "            <td>Feavers</td>\n",
       "            <td>45</td>\n",
       "        </tr>\n",
       "        <tr>\n",
       "            <td>Venezuela</td>\n",
       "            <td>Ron</td>\n",
       "            <td>Leggitt</td>\n",
       "            <td>60</td>\n",
       "        </tr>\n",
       "        <tr>\n",
       "            <td>Russia</td>\n",
       "            <td>Flint</td>\n",
       "            <td>Gokes</td>\n",
       "            <td>40</td>\n",
       "        </tr>\n",
       "        <tr>\n",
       "            <td>China</td>\n",
       "            <td>Linet</td>\n",
       "            <td>Conelly</td>\n",
       "            <td>52</td>\n",
       "        </tr>\n",
       "        <tr>\n",
       "            <td>Philippines</td>\n",
       "            <td>Nikolas</td>\n",
       "            <td>Birtwell</td>\n",
       "            <td>57</td>\n",
       "        </tr>\n",
       "        <tr>\n",
       "            <td>Australia</td>\n",
       "            <td>Eduard</td>\n",
       "            <td>Leipelt</td>\n",
       "            <td>53</td>\n",
       "        </tr>\n",
       "    </tbody>\n",
       "</table>"
      ],
      "text/plain": [
       "[('United States', 'Marshall', 'Bernadot', 54),\n",
       " ('Ghana', 'Celinda', 'Malkin', 51),\n",
       " ('Ukraine', 'Guillermo', 'Furze', 53),\n",
       " ('Greece', 'Aharon', 'Tunnow', 48),\n",
       " ('Russia', 'Bail', 'Goodwin', 46),\n",
       " ('Poland', 'Cole', 'Winteringham', 49),\n",
       " ('Sweden', 'Emlyn', 'Erricker', 55),\n",
       " ('Russia', 'Cathee', 'Sivewright', 49),\n",
       " ('China', 'Barny', 'Ingerson', 57),\n",
       " ('Uganda', 'Sharla', 'Papaccio', 55),\n",
       " ('China', 'Stella', 'Youens', 51),\n",
       " ('Poland', 'Julio', 'Buesden', 48),\n",
       " ('United States', 'Tiffie', 'Cosely', 58),\n",
       " ('Poland', 'Auroora', 'Stiffell', 45),\n",
       " ('China', 'Clarita', 'Huet', 52),\n",
       " ('Poland', 'Shannon', 'Goulden', 45),\n",
       " ('Philippines', 'Emylee', 'Privost', 50),\n",
       " ('France', 'Madelina', 'Burk', 49),\n",
       " ('China', 'Saunderson', 'Root', 58),\n",
       " ('Indonesia', 'Bo', 'Waring', 55),\n",
       " ('China', 'Hollis', 'Domotor', 45),\n",
       " ('Russia', 'Robbie', 'Collip', 46),\n",
       " ('Philippines', 'Davon', 'Donisi', 46),\n",
       " ('China', 'Cristabel', 'Radeliffe', 48),\n",
       " ('China', 'Wallis', 'Bartleet', 58),\n",
       " ('Moldova', 'Arleen', 'Stailey', 38),\n",
       " ('Ireland', 'Mendel', 'Grumble', 58),\n",
       " ('China', 'Sallyann', 'Exley', 51),\n",
       " ('Mexico', 'Kain', 'Swaite', 46),\n",
       " ('Indonesia', 'Alonso', 'Bulteel', 45),\n",
       " ('Armenia', 'Anatol', 'Tankus', 51),\n",
       " ('Indonesia', 'Coralyn', 'Dawkins', 48),\n",
       " ('China', 'Deanne', 'Edwinson', 45),\n",
       " ('China', 'Georgiana', 'Epple', 51),\n",
       " ('Portugal', 'Bartlet', 'Breese', 56),\n",
       " ('Azerbaijan', 'Idalina', 'Lukash', 50),\n",
       " ('France', 'Livvie', 'Flory', 54),\n",
       " ('Malaysia', 'Nonie', 'Borit', 48),\n",
       " ('Indonesia', 'Clio', 'Mugg', 47),\n",
       " ('Brazil', 'Westley', 'Measor', 48),\n",
       " ('Philippines', 'Katrinka', 'Sibbert', 51),\n",
       " ('Poland', 'Valentia', 'Mounch', 50),\n",
       " ('Norway', 'Sheilah', 'Hedditch', 53),\n",
       " ('Papua New Guinea', 'Itch', 'Jubb', 50),\n",
       " ('Latvia', 'Stesha', 'Garnson', 53),\n",
       " ('Canada', 'Cristionna', 'Wadmore', 46),\n",
       " ('China', 'Lianna', 'Gatward', 43),\n",
       " ('Guatemala', 'Tanney', 'Vials', 48),\n",
       " ('France', 'Alma', 'Zavittieri', 44),\n",
       " ('China', 'Alvira', 'Tamas', 50),\n",
       " ('United States', 'Shanon', 'Peres', 45),\n",
       " ('Sweden', 'Maisey', 'Lynas', 53),\n",
       " ('Indonesia', 'Kip', 'Hothersall', 46),\n",
       " ('China', 'Cash', 'Landis', 48),\n",
       " ('Panama', 'Kennith', 'Digance', 45),\n",
       " ('China', 'Ulberto', 'Riggeard', 48),\n",
       " ('Switzerland', 'Judy', 'Gilligan', 49),\n",
       " ('Philippines', 'Tod', 'Trevaskus', 52),\n",
       " ('Brazil', 'Herold', 'Heggs', 44),\n",
       " ('Latvia', 'Verney', 'Note', 50),\n",
       " ('Poland', 'Temp', 'Ribey', 50),\n",
       " ('China', 'Conroy', 'Egdal', 48),\n",
       " ('Japan', 'Gabie', 'Alessandone', 47),\n",
       " ('Ukraine', 'Devlen', 'Chaperlin', 54),\n",
       " ('France', 'Babbette', 'Turner', 51),\n",
       " ('Czech Republic', 'Virgil', 'Scotney', 52),\n",
       " ('Tajikistan', 'Zorina', 'Bedow', 49),\n",
       " ('China', 'Aidan', 'Rudeyeard', 50),\n",
       " ('Ireland', 'Saunder', 'MacLice', 48),\n",
       " ('France', 'Waly', 'Brunstan', 53),\n",
       " ('China', 'Gisele', 'Enns', 52),\n",
       " ('Peru', 'Mina', 'Winchester', 48),\n",
       " ('Japan', 'Torie', 'MacShirrie', 50),\n",
       " ('Russia', 'Benjamen', 'Kenford', 51),\n",
       " ('China', 'Etan', 'Burn', 53),\n",
       " ('Russia', 'Merralee', 'Chaperlin', 38),\n",
       " ('Indonesia', 'Lanny', 'Malam', 49),\n",
       " ('Canada', 'Wilhelm', 'Deeprose', 54),\n",
       " ('Czech Republic', 'Lari', 'Hillhouse', 48),\n",
       " ('China', 'Ossie', 'Woodley', 52),\n",
       " ('Macedonia', 'April', 'Tyer', 50),\n",
       " ('Vietnam', 'Madelon', 'Dansey', 53),\n",
       " ('Ukraine', 'Korella', 'McNamee', 52),\n",
       " ('Jamaica', 'Linnea', 'Cannam', 43),\n",
       " ('China', 'Mart', 'Coling', 52),\n",
       " ('Indonesia', 'Marna', 'Causbey', 47),\n",
       " ('China', 'Berni', 'Daintier', 55),\n",
       " ('Poland', 'Cynthia', 'Hassell', 49),\n",
       " ('Canada', 'Carma', 'Schule', 49),\n",
       " ('Indonesia', 'Malia', 'Blight', 48),\n",
       " ('China', 'Paulo', 'Seivertsen', 47),\n",
       " ('Niger', 'Kaylee', 'Hearley', 54),\n",
       " ('Japan', 'Maure', 'Jandak', 46),\n",
       " ('Argentina', 'Foss', 'Feavers', 45),\n",
       " ('Venezuela', 'Ron', 'Leggitt', 60),\n",
       " ('Russia', 'Flint', 'Gokes', 40),\n",
       " ('China', 'Linet', 'Conelly', 52),\n",
       " ('Philippines', 'Nikolas', 'Birtwell', 57),\n",
       " ('Australia', 'Eduard', 'Leipelt', 53)]"
      ]
     },
     "execution_count": 19,
     "metadata": {},
     "output_type": "execute_result"
    }
   ],
   "source": [
    "%sql SELECT * FROM INTERNATIONAL_STUDENT_TEST_SCORES;"
   ]
  },
  {
   "cell_type": "code",
   "execution_count": 77,
   "id": "c3c14209-41ec-4d27-88e0-b9d403eef04e",
   "metadata": {},
   "outputs": [
    {
     "name": "stdout",
     "output_type": "stream",
     "text": [
      " * sqlite:///SQLiteMagic.db\n",
      "Done.\n"
     ]
    }
   ],
   "source": [
    "high_score = %sql SELECT country, SUM(CASE WHEN test_score>53 THEN 1 ELSE 0 END) AS freq FROM INTERNATIONAL_STUDENT_TEST_SCORES GROUP BY country HAVING freq>0;\n",
    "high_score =  high_score.DataFrame()"
   ]
  },
  {
   "cell_type": "code",
   "execution_count": 82,
   "id": "6349062f-6fd0-4a29-bb15-434176750bff",
   "metadata": {},
   "outputs": [
    {
     "data": {
      "text/html": [
       "<div>\n",
       "<style scoped>\n",
       "    .dataframe tbody tr th:only-of-type {\n",
       "        vertical-align: middle;\n",
       "    }\n",
       "\n",
       "    .dataframe tbody tr th {\n",
       "        vertical-align: top;\n",
       "    }\n",
       "\n",
       "    .dataframe thead th {\n",
       "        text-align: right;\n",
       "    }\n",
       "</style>\n",
       "<table border=\"1\" class=\"dataframe\">\n",
       "  <thead>\n",
       "    <tr style=\"text-align: right;\">\n",
       "      <th></th>\n",
       "      <th>country</th>\n",
       "      <th>freq</th>\n",
       "    </tr>\n",
       "  </thead>\n",
       "  <tbody>\n",
       "    <tr>\n",
       "      <th>0</th>\n",
       "      <td>Canada</td>\n",
       "      <td>1</td>\n",
       "    </tr>\n",
       "    <tr>\n",
       "      <th>1</th>\n",
       "      <td>China</td>\n",
       "      <td>4</td>\n",
       "    </tr>\n",
       "    <tr>\n",
       "      <th>2</th>\n",
       "      <td>France</td>\n",
       "      <td>1</td>\n",
       "    </tr>\n",
       "    <tr>\n",
       "      <th>3</th>\n",
       "      <td>Indonesia</td>\n",
       "      <td>1</td>\n",
       "    </tr>\n",
       "    <tr>\n",
       "      <th>4</th>\n",
       "      <td>Ireland</td>\n",
       "      <td>1</td>\n",
       "    </tr>\n",
       "    <tr>\n",
       "      <th>5</th>\n",
       "      <td>Niger</td>\n",
       "      <td>1</td>\n",
       "    </tr>\n",
       "    <tr>\n",
       "      <th>6</th>\n",
       "      <td>Philippines</td>\n",
       "      <td>1</td>\n",
       "    </tr>\n",
       "    <tr>\n",
       "      <th>7</th>\n",
       "      <td>Portugal</td>\n",
       "      <td>1</td>\n",
       "    </tr>\n",
       "    <tr>\n",
       "      <th>8</th>\n",
       "      <td>Sweden</td>\n",
       "      <td>1</td>\n",
       "    </tr>\n",
       "    <tr>\n",
       "      <th>9</th>\n",
       "      <td>Uganda</td>\n",
       "      <td>1</td>\n",
       "    </tr>\n",
       "    <tr>\n",
       "      <th>10</th>\n",
       "      <td>Ukraine</td>\n",
       "      <td>1</td>\n",
       "    </tr>\n",
       "    <tr>\n",
       "      <th>11</th>\n",
       "      <td>United States</td>\n",
       "      <td>2</td>\n",
       "    </tr>\n",
       "    <tr>\n",
       "      <th>12</th>\n",
       "      <td>Venezuela</td>\n",
       "      <td>1</td>\n",
       "    </tr>\n",
       "  </tbody>\n",
       "</table>\n",
       "</div>"
      ],
      "text/plain": [
       "          country  freq\n",
       "0          Canada     1\n",
       "1           China     4\n",
       "2          France     1\n",
       "3       Indonesia     1\n",
       "4         Ireland     1\n",
       "5           Niger     1\n",
       "6     Philippines     1\n",
       "7        Portugal     1\n",
       "8          Sweden     1\n",
       "9          Uganda     1\n",
       "10        Ukraine     1\n",
       "11  United States     2\n",
       "12      Venezuela     1"
      ]
     },
     "metadata": {},
     "output_type": "display_data"
    },
    {
     "name": "stderr",
     "output_type": "stream",
     "text": [
      "/Users/meowbi/miniconda3/lib/python3.10/site-packages/seaborn/_oldcore.py:1498: FutureWarning: is_categorical_dtype is deprecated and will be removed in a future version. Use isinstance(dtype, CategoricalDtype) instead\n",
      "  if pd.api.types.is_categorical_dtype(vector):\n",
      "/Users/meowbi/miniconda3/lib/python3.10/site-packages/seaborn/_oldcore.py:1498: FutureWarning: is_categorical_dtype is deprecated and will be removed in a future version. Use isinstance(dtype, CategoricalDtype) instead\n",
      "  if pd.api.types.is_categorical_dtype(vector):\n",
      "/Users/meowbi/miniconda3/lib/python3.10/site-packages/seaborn/_oldcore.py:1498: FutureWarning: is_categorical_dtype is deprecated and will be removed in a future version. Use isinstance(dtype, CategoricalDtype) instead\n",
      "  if pd.api.types.is_categorical_dtype(vector):\n"
     ]
    },
    {
     "data": {
      "text/plain": [
       "<Axes: xlabel='country', ylabel='freq'>"
      ]
     },
     "execution_count": 82,
     "metadata": {},
     "output_type": "execute_result"
    },
    {
     "data": {
      "image/png": "[encoded data removed]",
      "text/plain": [
       "<Figure size 1200x480 with 1 Axes>"
      ]
     },
     "metadata": {},
     "output_type": "display_data"
    }
   ],
   "source": [
    "display(high_score)\n",
    "\n",
    "import seaborn\n",
    "from matplotlib.pyplot import figure\n",
    "figure(figsize=(15, 6), dpi=80)\n",
    "seaborn.barplot(x='country', y='freq', data=high_score)"
   ]
  },
  {
   "cell_type": "markdown",
   "id": "72e5b355-58c9-4c80-abfe-fc721bf6914f",
   "metadata": {},
   "source": [
    "# <b><span style='color:blue'>6. ANALYZING REAL WORLD DATA</span></b>"
   ]
  },
  {
   "cell_type": "code",
   "execution_count": 83,
   "id": "d06f556b-c7da-4e89-b4dd-c0c3211c9f85",
   "metadata": {},
   "outputs": [
    {
     "name": "stdout",
     "output_type": "stream",
     "text": [
      "The sql extension is already loaded. To reload it, use:\n",
      "  %reload_ext sql\n"
     ]
    }
   ],
   "source": [
    "%load_ext sql"
   ]
  },
  {
   "cell_type": "code",
   "execution_count": 102,
   "id": "c99e260f-5992-4bba-9185-dc82d51eecb3",
   "metadata": {},
   "outputs": [],
   "source": [
    "import csv, sqlite3\n",
    "import pandas as pd\n",
    "import seaborn as sns\n",
    "\n",
    "conn = sqlite3.connect('ChicagoSocEco.db')\n",
    "cur = conn.cursor()\n",
    "%sql sqlite:///ChicagoSocEco.db"
   ]
  },
  {
   "cell_type": "code",
   "execution_count": 91,
   "id": "4f08a095-95b6-49e5-bebf-0a8fb5e8eaa3",
   "metadata": {},
   "outputs": [
    {
     "data": {
      "text/plain": [
       "78"
      ]
     },
     "execution_count": 91,
     "metadata": {},
     "output_type": "execute_result"
    }
   ],
   "source": [
    "df = pd.read_csv('https://data.cityofchicago.org/resource/jcxq-k9xf.csv')\n",
    "df.to_sql('ChicagoSocEco_data', conn, if_exists='replace', index=False, method='multi')"
   ]
  },
  {
   "cell_type": "code",
   "execution_count": 263,
   "id": "e53170a7-48d6-450f-9906-9f1fbe332371",
   "metadata": {},
   "outputs": [],
   "source": [
    "%sql SELECT * FROM ChicagoSocEco_data;"
   ]
  },
  {
   "cell_type": "code",
   "execution_count": 95,
   "id": "d2084dca-16f5-4ea6-81cc-72509a6f29ce",
   "metadata": {},
   "outputs": [
    {
     "name": "stdout",
     "output_type": "stream",
     "text": [
      " * sqlite:///ChicagoSocEco.db\n",
      "   sqlite:///SQLiteMagic.db\n",
      "Done.\n"
     ]
    },
    {
     "data": {
      "text/html": [
       "<table>\n",
       "    <thead>\n",
       "        <tr>\n",
       "            <th>COUNT(*)</th>\n",
       "        </tr>\n",
       "    </thead>\n",
       "    <tbody>\n",
       "        <tr>\n",
       "            <td>78</td>\n",
       "        </tr>\n",
       "    </tbody>\n",
       "</table>"
      ],
      "text/plain": [
       "[(78,)]"
      ]
     },
     "execution_count": 95,
     "metadata": {},
     "output_type": "execute_result"
    }
   ],
   "source": [
    "%sql SELECT COUNT(*) FROM ChicagoSocEco_data;"
   ]
  },
  {
   "cell_type": "code",
   "execution_count": 96,
   "id": "bdab05e8-41f6-4e3b-a2cc-b4aaa060e5d9",
   "metadata": {},
   "outputs": [
    {
     "name": "stdout",
     "output_type": "stream",
     "text": [
      " * sqlite:///ChicagoSocEco.db\n",
      "   sqlite:///SQLiteMagic.db\n",
      "Done.\n"
     ]
    },
    {
     "data": {
      "text/html": [
       "<table>\n",
       "    <thead>\n",
       "        <tr>\n",
       "            <th>COUNT(*)</th>\n",
       "        </tr>\n",
       "    </thead>\n",
       "    <tbody>\n",
       "        <tr>\n",
       "            <td>38</td>\n",
       "        </tr>\n",
       "    </tbody>\n",
       "</table>"
      ],
      "text/plain": [
       "[(38,)]"
      ]
     },
     "execution_count": 96,
     "metadata": {},
     "output_type": "execute_result"
    }
   ],
   "source": [
    "%sql SELECT COUNT(*) FROM ChicagoSocEco_data WHERE hardship_index>50"
   ]
  },
  {
   "cell_type": "code",
   "execution_count": 98,
   "id": "5424e7d5-9188-463c-a6df-0b024981b886",
   "metadata": {},
   "outputs": [
    {
     "name": "stdout",
     "output_type": "stream",
     "text": [
      " * sqlite:///ChicagoSocEco.db\n",
      "   sqlite:///SQLiteMagic.db\n",
      "Done.\n"
     ]
    },
    {
     "data": {
      "text/html": [
       "<table>\n",
       "    <thead>\n",
       "        <tr>\n",
       "            <th>community_area_name</th>\n",
       "        </tr>\n",
       "    </thead>\n",
       "    <tbody>\n",
       "        <tr>\n",
       "            <td>Riverdale</td>\n",
       "        </tr>\n",
       "    </tbody>\n",
       "</table>"
      ],
      "text/plain": [
       "[('Riverdale',)]"
      ]
     },
     "execution_count": 98,
     "metadata": {},
     "output_type": "execute_result"
    }
   ],
   "source": [
    "%sql SELECT community_area_name FROM ChicagoSocEco_data WHERE hardship_index = (SELECT MAX(hardship_index) FROM ChicagoSocEco_data);"
   ]
  },
  {
   "cell_type": "code",
   "execution_count": 101,
   "id": "862227cd-8415-4400-b951-92b25ca320aa",
   "metadata": {},
   "outputs": [
    {
     "name": "stdout",
     "output_type": "stream",
     "text": [
      " * sqlite:///ChicagoSocEco.db\n",
      "   sqlite:///SQLiteMagic.db\n",
      "Done.\n"
     ]
    },
    {
     "data": {
      "text/html": [
       "<table>\n",
       "    <thead>\n",
       "        <tr>\n",
       "            <th>community_area_name</th>\n",
       "        </tr>\n",
       "    </thead>\n",
       "    <tbody>\n",
       "        <tr>\n",
       "            <td>Lake View</td>\n",
       "        </tr>\n",
       "        <tr>\n",
       "            <td>Lincoln Park</td>\n",
       "        </tr>\n",
       "        <tr>\n",
       "            <td>Near North Side</td>\n",
       "        </tr>\n",
       "        <tr>\n",
       "            <td>Loop</td>\n",
       "        </tr>\n",
       "    </tbody>\n",
       "</table>"
      ],
      "text/plain": [
       "[('Lake View',), ('Lincoln Park',), ('Near North Side',), ('Loop',)]"
      ]
     },
     "execution_count": 101,
     "metadata": {},
     "output_type": "execute_result"
    }
   ],
   "source": [
    "%sql SELECT community_area_name FROM ChicagoSocEco_data WHERE per_capita_income_>60000;"
   ]
  },
  {
   "cell_type": "code",
   "execution_count": 103,
   "id": "c3253115-f170-4e30-b6e1-a8f5d54c8595",
   "metadata": {},
   "outputs": [
    {
     "name": "stdout",
     "output_type": "stream",
     "text": [
      " * sqlite:///ChicagoSocEco.db\n",
      "   sqlite:///SQLiteMagic.db\n",
      "Done.\n"
     ]
    },
    {
     "data": {
      "text/plain": [
       "<matplotlib.collections.PathCollection at 0x7fbe7c45ffd0>"
      ]
     },
     "execution_count": 103,
     "metadata": {},
     "output_type": "execute_result"
    },
    {
     "data": {
      "image/png": "[encoded data removed]",
      "text/plain": [
       "<Figure size 640x480 with 1 Axes>"
      ]
     },
     "metadata": {},
     "output_type": "display_data"
    }
   ],
   "source": [
    "import matplotlib.pyplot as plt\n",
    "data = %sql SELECT per_capita_income_, hardship_index FROM ChicagoSocEco_data;\n",
    "data = data.DataFrame()\n",
    "plt.scatter(x='per_capita_income_', y='hardship_index', data=data)"
   ]
  },
  {
   "cell_type": "code",
   "execution_count": 106,
   "id": "a9b931c4-ea53-49f8-96cc-4ee4b45dec04",
   "metadata": {},
   "outputs": [
    {
     "name": "stderr",
     "output_type": "stream",
     "text": [
      "/Users/meowbi/miniconda3/lib/python3.10/site-packages/seaborn/_oldcore.py:1498: FutureWarning: is_categorical_dtype is deprecated and will be removed in a future version. Use isinstance(dtype, CategoricalDtype) instead\n",
      "  if pd.api.types.is_categorical_dtype(vector):\n",
      "/Users/meowbi/miniconda3/lib/python3.10/site-packages/seaborn/_oldcore.py:1498: FutureWarning: is_categorical_dtype is deprecated and will be removed in a future version. Use isinstance(dtype, CategoricalDtype) instead\n",
      "  if pd.api.types.is_categorical_dtype(vector):\n",
      "/Users/meowbi/miniconda3/lib/python3.10/site-packages/seaborn/_oldcore.py:1498: FutureWarning: is_categorical_dtype is deprecated and will be removed in a future version. Use isinstance(dtype, CategoricalDtype) instead\n",
      "  if pd.api.types.is_categorical_dtype(vector):\n",
      "/Users/meowbi/miniconda3/lib/python3.10/site-packages/seaborn/_oldcore.py:1498: FutureWarning: is_categorical_dtype is deprecated and will be removed in a future version. Use isinstance(dtype, CategoricalDtype) instead\n",
      "  if pd.api.types.is_categorical_dtype(vector):\n",
      "/Users/meowbi/miniconda3/lib/python3.10/site-packages/seaborn/_oldcore.py:1498: FutureWarning: is_categorical_dtype is deprecated and will be removed in a future version. Use isinstance(dtype, CategoricalDtype) instead\n",
      "  if pd.api.types.is_categorical_dtype(vector):\n",
      "/Users/meowbi/miniconda3/lib/python3.10/site-packages/seaborn/_oldcore.py:1119: FutureWarning: use_inf_as_na option is deprecated and will be removed in a future version. Convert inf values to NaN before operating instead.\n",
      "  with pd.option_context('mode.use_inf_as_na', True):\n",
      "/Users/meowbi/miniconda3/lib/python3.10/site-packages/seaborn/_oldcore.py:1498: FutureWarning: is_categorical_dtype is deprecated and will be removed in a future version. Use isinstance(dtype, CategoricalDtype) instead\n",
      "  if pd.api.types.is_categorical_dtype(vector):\n",
      "/Users/meowbi/miniconda3/lib/python3.10/site-packages/seaborn/_oldcore.py:1119: FutureWarning: use_inf_as_na option is deprecated and will be removed in a future version. Convert inf values to NaN before operating instead.\n",
      "  with pd.option_context('mode.use_inf_as_na', True):\n"
     ]
    },
    {
     "data": {
      "text/plain": [
       "Text(37.722222222222214, 0.5, 'Income per Capita')"
      ]
     },
     "execution_count": 106,
     "metadata": {},
     "output_type": "execute_result"
    },
    {
     "data": {
      "image/png": "[encoded data removed]",
      "text/plain": [
       "<Figure size 600x600 with 3 Axes>"
      ]
     },
     "metadata": {},
     "output_type": "display_data"
    }
   ],
   "source": [
    "sns.jointplot(x='per_capita_income_', y='hardship_index', data=data)\n",
    "plt.xlabel('Hard ship Index')\n",
    "plt.ylabel('Income per Capita')"
   ]
  },
  {
   "cell_type": "markdown",
   "id": "ce44c86e-9f0e-48b5-98bf-f91048091a60",
   "metadata": {},
   "source": [
    "---\n",
    "# <b><span style='color:blue'>7. Advanced SQL</span></b>\n",
    "---"
   ]
  },
  {
   "cell_type": "markdown",
   "id": "0508b386-8817-440c-9427-9ddfa150d36e",
   "metadata": {},
   "source": [
    "![](view_procedure_transaction.png)"
   ]
  },
  {
   "cell_type": "markdown",
   "id": "1244c658-aa73-4fdf-8146-6ee7bb6cf6c7",
   "metadata": {},
   "source": [
    "## <b><span style='color:green'>(i) VIEW</span></b>\n",
    "<code><b>CREATE VIEW</b></code> INFO (col_1, col_2,..) <code><b>AS SELECT</b></code> col_1, col_2,.. FROM table_name;\\\n",
    "<code><b>CREATE OR REPLACE VIEW</b></code> INFO (col_1, col_2,..) <code><b>AS SELECT</b></code> col_1, col_2,.. FROM table_name;\\\n",
    "<code><b>DROP VIEW</b></code> INFO"
   ]
  },
  {
   "cell_type": "code",
   "execution_count": 142,
   "id": "61aef9b9-d391-46d1-83f2-330a9d52f927",
   "metadata": {},
   "outputs": [
    {
     "name": "stdout",
     "output_type": "stream",
     "text": [
      "The sql extension is already loaded. To reload it, use:\n",
      "  %reload_ext sql\n"
     ]
    }
   ],
   "source": [
    "# Connect to database\n",
    "import requests\n",
    "import pandas as pd\n",
    "from bs4 import BeautifulSoup\n",
    "import sqlite3\n",
    "%load_ext sql\n",
    "conn = sqlite3.connect('FinalDB.db')\n",
    "cur = conn.cursor()\n",
    "%sql sqlite:///FinalDB.db\n",
    "%sql SELECT name, sql FROM sqlite_master;"
   ]
  },
  {
   "cell_type": "code",
   "execution_count": 156,
   "id": "03e1e224-9167-49bc-a2f4-77dd10ce6738",
   "metadata": {},
   "outputs": [
    {
     "name": "stdout",
     "output_type": "stream",
     "text": [
      "   sqlite:///ChicagoSocEco.db\n",
      " * sqlite:///FinalDB.db\n",
      "   sqlite:///INSTRUCTOR.db\n",
      "   sqlite:///RealWorldData.db\n",
      "   sqlite:///SQLiteMagic.db\n",
      "Done.\n",
      "Done.\n",
      "Done.\n"
     ]
    },
    {
     "data": {
      "text/html": [
       "<table>\n",
       "    <thead>\n",
       "        <tr>\n",
       "            <th>ID</th>\n",
       "            <th>CASE_NUMBER</th>\n",
       "            <th>DATE</th>\n",
       "            <th>PRIMARY_TYPE</th>\n",
       "            <th>DESCRIPTION</th>\n",
       "        </tr>\n",
       "    </thead>\n",
       "    <tbody>\n",
       "        <tr>\n",
       "            <td>3512276</td>\n",
       "            <td>HK587712</td>\n",
       "            <td>2004-08-28</td>\n",
       "            <td>THEFT</td>\n",
       "            <td>FROM BUILDING</td>\n",
       "        </tr>\n",
       "        <tr>\n",
       "            <td>3406613</td>\n",
       "            <td>HK456306</td>\n",
       "            <td>2004-06-26</td>\n",
       "            <td>THEFT</td>\n",
       "            <td>$500 AND UNDER</td>\n",
       "        </tr>\n",
       "        <tr>\n",
       "            <td>8002131</td>\n",
       "            <td>HT233595</td>\n",
       "            <td>2011-04-04</td>\n",
       "            <td>THEFT</td>\n",
       "            <td>$500 AND UNDER</td>\n",
       "        </tr>\n",
       "        <tr>\n",
       "            <td>7903289</td>\n",
       "            <td>HT133522</td>\n",
       "            <td>2010-12-30</td>\n",
       "            <td>THEFT</td>\n",
       "            <td>FINANCIAL ID THEFT: OVER $300</td>\n",
       "        </tr>\n",
       "        <tr>\n",
       "            <td>10402076</td>\n",
       "            <td>HZ138551</td>\n",
       "            <td>2016-02-02</td>\n",
       "            <td>THEFT</td>\n",
       "            <td>$500 AND UNDER</td>\n",
       "        </tr>\n",
       "    </tbody>\n",
       "</table>"
      ],
      "text/plain": [
       "[(3512276, 'HK587712', '2004-08-28', 'THEFT', 'FROM BUILDING'),\n",
       " (3406613, 'HK456306', '2004-06-26', 'THEFT', '$500 AND UNDER'),\n",
       " (8002131, 'HT233595', '2011-04-04', 'THEFT', '$500 AND UNDER'),\n",
       " (7903289, 'HT133522', '2010-12-30', 'THEFT', 'FINANCIAL ID THEFT: OVER $300'),\n",
       " (10402076, 'HZ138551', '2016-02-02', 'THEFT', '$500 AND UNDER')]"
      ]
     },
     "execution_count": 156,
     "metadata": {},
     "output_type": "execute_result"
    }
   ],
   "source": [
    "%%sql \n",
    "DROP VIEW IF EXISTS SOME_CRIMES;\n",
    "CREATE VIEW SOME_CRIMES AS\n",
    "SELECT ID, CASE_NUMBER, DATE, PRIMARY_TYPE, DESCRIPTION FROM CRIME_DATA;\n",
    "SELECT * FROM SOME_CRIMES LIMIT 5;"
   ]
  },
  {
   "cell_type": "code",
   "execution_count": null,
   "id": "62cb078b-e8cc-4223-a8b9-262446da191e",
   "metadata": {},
   "outputs": [],
   "source": [
    "%sql DROP VIEW SOME_CRIMES;"
   ]
  },
  {
   "cell_type": "markdown",
   "id": "038e78eb-ce0c-469b-b119-155ec4b66655",
   "metadata": {},
   "source": [
    "# <b><span style='color:green'>(ii) PROCEDURE</span></b>"
   ]
  },
  {
   "cell_type": "code",
   "execution_count": 164,
   "id": "c7e84237-5e3a-4d7e-938c-3c3e38b3ddc7",
   "metadata": {},
   "outputs": [
    {
     "name": "stdout",
     "output_type": "stream",
     "text": [
      "   sqlite:///ChicagoSocEco.db\n",
      " * sqlite:///FinalDB.db\n",
      "   sqlite:///INSTRUCTOR.db\n",
      "   sqlite:///RealWorldData.db\n",
      "   sqlite:///SQLiteMagic.db\n",
      "(sqlite3.OperationalError) near \"PROCEDURE\": syntax error\n",
      "[SQL: CREATE PROCEDURE UPDATE_CRIME (IN PROB CHAR(6), IN PTYPE CHAR(6))\n",
      "    LANGUAGE SQL\n",
      "    BEGIN\n",
      "        IF PROB = 1 THEN\n",
      "            UPDATE CRIME_DATA\n",
      "                SET CASE_NUMBER = 'HIEHIE' + SUBSTR(CASE_NUMBER, 3, LEN(CASE_NUMBER)-2)\n",
      "                WHERE PRIMARY_TYPE = PTYPE;\n",
      "        ELSE\n",
      "            UPDATE CRIME_DATA\n",
      "                SET CASE_NUMBER = 'XIU' + SUBSTR(CASE_NUMBER, 3, LEN(CASE_NUMBER)-2)\n",
      "                WHERE PRIMARY_TYPE = PTYPE;\n",
      "        END IF;\n",
      "    END;]\n",
      "(Background on this error at: https://sqlalche.me/e/20/e3q8)\n"
     ]
    }
   ],
   "source": [
    "%%sql\n",
    "CREATE PROCEDURE UPDATE_CRIME (IN PROB CHAR(6), IN PTYPE CHAR(6))\n",
    "    LANGUAGE SQL\n",
    "    BEGIN\n",
    "        IF PROB = 1 THEN\n",
    "            UPDATE CRIME_DATA\n",
    "                SET CASE_NUMBER = 'HIEHIE' + SUBSTR(CASE_NUMBER, 3, LEN(CASE_NUMBER)-2)\n",
    "                WHERE PRIMARY_TYPE = PTYPE;\n",
    "        ELSE\n",
    "            UPDATE CRIME_DATA\n",
    "                SET CASE_NUMBER = 'XIU' + SUBSTR(CASE_NUMBER, 3, LEN(CASE_NUMBER)-2)\n",
    "                WHERE PRIMARY_TYPE = PTYPE;\n",
    "        END IF;\n",
    "    END;\n"
   ]
  },
  {
   "cell_type": "code",
   "execution_count": 217,
   "id": "b1989bf7-d359-4acf-9fd2-f106c6753c73",
   "metadata": {},
   "outputs": [
    {
     "name": "stdout",
     "output_type": "stream",
     "text": [
      "The sql extension is already loaded. To reload it, use:\n",
      "  %reload_ext sql\n"
     ]
    }
   ],
   "source": [
    "import sqlite3\n",
    "%load_ext sql\n",
    "conn = sqlite3.connect('Pet.db')\n",
    "cur = conn.cursor()\n",
    "%sql sqlite:///Pet.db\n"
   ]
  },
  {
   "cell_type": "code",
   "execution_count": 216,
   "id": "25608049-74df-472f-b1d4-1f35d69017c3",
   "metadata": {},
   "outputs": [
    {
     "name": "stdout",
     "output_type": "stream",
     "text": [
      "The sql extension is already loaded. To reload it, use:\n",
      "  %reload_ext sql\n"
     ]
    }
   ],
   "source": [
    "# pip install mysql.connector\n",
    "import mysql.connector\n",
    "conn = mysql.connector.connect(host='localhost', user='root', password='Huy0939650717')\n",
    "cur = conn.cursor()\n",
    "%load_ext sql\n",
    "conn.close()"
   ]
  },
  {
   "cell_type": "code",
   "execution_count": 220,
   "id": "ce278b18-281b-4251-9a5f-e4111700f236",
   "metadata": {},
   "outputs": [
    {
     "name": "stdout",
     "output_type": "stream",
     "text": [
      "   sqlite:///ChicagoSocEco.db\n",
      "   sqlite:///FinalDB.db\n",
      "   sqlite:///INSTRUCTOR.db\n",
      " * sqlite:///Pet.db\n",
      "   sqlite:///RealWorldData.db\n",
      "   sqlite:///SQLiteMagic.db\n",
      "(sqlite3.OperationalError) database is locked\n",
      "[SQL: DROP TABLE IF EXISTS PETSALE;]\n",
      "(Background on this error at: https://sqlalche.me/e/20/e3q8)\n"
     ]
    }
   ],
   "source": [
    "%%sql\n",
    "DROP TABLE IF EXISTS PETSALE;\n",
    "\n",
    "CREATE TABLE PETSALE (\n",
    "\tID INTEGER NOT NULL,\n",
    "\tANIMAL VARCHAR(20),\n",
    "\tSALEPRICE DECIMAL(6,2),\n",
    "\tSALEDATE DATE,\n",
    "\tQUANTITY INTEGER,\n",
    "\tPRIMARY KEY (ID)\n",
    "\t);\n",
    "\n",
    "INSERT INTO PETSALE VALUES\n",
    "(1,'Cat',450.09,'2018-05-29',9),\n",
    "(2,'Dog',666.66,'2018-06-01',3),\n",
    "(3,'Parrot',50.00,'2018-06-04',2),\n",
    "(4,'Hamster',60.60,'2018-06-11',6),\n",
    "(5,'Goldfish',48.48,'2018-06-14',24);\n",
    "\n",
    "SELECT * FROM PETSALE;\n",
    "\n"
   ]
  },
  {
   "cell_type": "markdown",
   "id": "932bc6a0-ff52-4890-8d59-e0d42906564d",
   "metadata": {},
   "source": [
    "# <b><span style='color:green'>(iii) ACID TRANSACTION</span></b>\n",
    "|||\n",
    "|-|-|\n",
    "|![](ACID.png)|![](ACID_transaction.png)|"
   ]
  },
  {
   "cell_type": "markdown",
   "id": "4545ba39-b6c5-40fc-8139-d2c756627304",
   "metadata": {},
   "source": [
    "# <b><span style='color:green'>(iv) JOIN</span></b>\n",
    "\n",
    "<code><b>SELECT</b></code> A.col_1, B.col_2 <code><b>FROM</b></code> data_1 A [...] data_2 B <code><b>ON</b></code>A.ID = B.ID;\n",
    "\n",
    "|[...]|\n",
    "|-|\n",
    "|INNER JOIN|\n",
    "|LEFT OUTER JOIN/RIGHT OUTER JOIN|\n",
    "|FULL OUTER JOIN/CROSS JOIN|\n"
   ]
  },
  {
   "cell_type": "code",
   "execution_count": 244,
   "id": "cc9dbf75-2313-4b38-aaf1-c2741ebda329",
   "metadata": {},
   "outputs": [
    {
     "name": "stdout",
     "output_type": "stream",
     "text": [
      "The sql extension is already loaded. To reload it, use:\n",
      "  %reload_ext sql\n"
     ]
    }
   ],
   "source": [
    "import sqlite3\n",
    "%load_ext sql\n",
    "\n",
    "conn = sqlite3.connect('ChicagoSocEco.db')\n",
    "cur = conn.cursor()\n",
    "%sql sqlite:///ChicagoSocEco.db"
   ]
  },
  {
   "cell_type": "code",
   "execution_count": 250,
   "id": "82481b1c-0032-4f98-a065-4c086f0c4f5a",
   "metadata": {},
   "outputs": [
    {
     "name": "stdout",
     "output_type": "stream",
     "text": [
      " * sqlite:///ChicagoSocEco.db\n",
      "   sqlite:///FinalDB.db\n",
      "   sqlite:///INSTRUCTOR.db\n",
      "   sqlite:///Pet.db\n",
      "   sqlite:///RealWorldData.db\n",
      "   sqlite:///SQLiteMagic.db\n",
      "Done.\n"
     ]
    },
    {
     "data": {
      "text/html": [
       "<table>\n",
       "    <thead>\n",
       "        <tr>\n",
       "            <th>name</th>\n",
       "            <th>sql</th>\n",
       "        </tr>\n",
       "    </thead>\n",
       "    <tbody>\n",
       "        <tr>\n",
       "            <td>ChicagoSocEco_data</td>\n",
       "            <td>CREATE TABLE &quot;ChicagoSocEco_data&quot; (<br>&quot;ca&quot; REAL,<br>  &quot;community_area_name&quot; TEXT,<br>  &quot;percent_of_housing_crowded&quot; REAL,<br>  &quot;percent_households_below_poverty&quot; REAL,<br>  &quot;percent_aged_16_unemployed&quot; REAL,<br>  &quot;percent_aged_25_without_high_school_diploma&quot; REAL,<br>  &quot;percent_aged_under_18_or_over_64&quot; REAL,<br>  &quot;per_capita_income_&quot; INTEGER,<br>  &quot;hardship_index&quot; REAL<br>)</td>\n",
       "        </tr>\n",
       "        <tr>\n",
       "            <td>PubSchool_data</td>\n",
       "            <td>CREATE TABLE &quot;PubSchool_data&quot; (<br>&quot;School_ID&quot; INTEGER,<br>  &quot;NAME_OF_SCHOOL&quot; TEXT,<br>  &quot;Elementary, Middle, or High School&quot; TEXT,<br>  &quot;Street_Address&quot; TEXT,<br>  &quot;City&quot; TEXT,<br>  &quot;State&quot; TEXT,<br>  &quot;ZIP_Code&quot; INTEGER,<br>  &quot;Phone_Number&quot; TEXT,<br>  &quot;Link&quot; TEXT,<br>  &quot;Network_Manager&quot; TEXT,<br>  &quot;Collaborative_Name&quot; TEXT,<br>  &quot;Adequate_Yearly_Progress_Made_&quot; TEXT,<br>  &quot;Track_Schedule&quot; TEXT,<br>  &quot;CPS_Performance_Policy_Status&quot; TEXT,<br>  &quot;CPS_Performance_Policy_Level&quot; TEXT,<br>  &quot;HEALTHY_SCHOOL_CERTIFIED&quot; TEXT,<br>  &quot;Safety_Icon&quot; TEXT,<br>  &quot;SAFETY_SCORE&quot; REAL,<br>  &quot;Family_Involvement_Icon&quot; TEXT,<br>  &quot;Family_Involvement_Score&quot; TEXT,<br>  &quot;Environment_Icon&quot; TEXT,<br>  &quot;Environment_Score&quot; REAL,<br>  &quot;Instruction_Icon&quot; TEXT,<br>  &quot;Instruction_Score&quot; REAL,<br>  &quot;Leaders_Icon&quot; TEXT,<br>  &quot;Leaders_Score&quot; TEXT,<br>  &quot;Teachers_Icon&quot; TEXT,<br>  &quot;Teachers_Score&quot; TEXT,<br>  &quot;Parent_Engagement_Icon&quot; TEXT,<br>  &quot;Parent_Engagement_Score&quot; TEXT,<br>  &quot;Parent_Environment_Icon&quot; TEXT,<br>  &quot;Parent_Environment_Score&quot; TEXT,<br>  &quot;AVERAGE_STUDENT_ATTENDANCE&quot; TEXT,<br>  &quot;Rate_of_Misconducts__per_100_students_&quot; REAL,<br>  &quot;Average_Teacher_Attendance&quot; TEXT,<br>  &quot;Individualized_Education_Program_Compliance_Rate&quot; TEXT,<br>  &quot;Pk_2_Literacy__&quot; TEXT,<br>  &quot;Pk_2_Math__&quot; TEXT,<br>  &quot;Gr3_5_Grade_Level_Math__&quot; TEXT,<br>  &quot;Gr3_5_Grade_Level_Read__&quot; TEXT,<br>  &quot;Gr3_5_Keep_Pace_Read__&quot; TEXT,<br>  &quot;Gr3_5_Keep_Pace_Math__&quot; TEXT,<br>  &quot;Gr6_8_Grade_Level_Math__&quot; TEXT,<br>  &quot;Gr6_8_Grade_Level_Read__&quot; TEXT,<br>  &quot;Gr6_8_Keep_Pace_Math_&quot; TEXT,<br>  &quot;Gr6_8_Keep_Pace_Read__&quot; TEXT,<br>  &quot;Gr_8_Explore_Math__&quot; TEXT,<br>  &quot;Gr_8_Explore_Read__&quot; TEXT,<br>  &quot;ISAT_Exceeding_Math__&quot; REAL,<br>  &quot;ISAT_Exceeding_Reading__&quot; REAL,<br>  &quot;ISAT_Value_Add_Math&quot; REAL,<br>  &quot;ISAT_Value_Add_Read&quot; REAL,<br>  &quot;ISAT_Value_Add_Color_Math&quot; TEXT,<br>  &quot;ISAT_Value_Add_Color_Read&quot; TEXT,<br>  &quot;Students_Taking__Algebra__&quot; TEXT,<br>  &quot;Students_Passing__Algebra__&quot; TEXT,<br>  &quot;9th Grade EXPLORE (2009)&quot; TEXT,<br>  &quot;9th Grade EXPLORE (2010)&quot; TEXT,<br>  &quot;10th Grade PLAN (2009)&quot; TEXT,<br>  &quot;10th Grade PLAN (2010)&quot; TEXT,<br>  &quot;Net_Change_EXPLORE_and_PLAN&quot; TEXT,<br>  &quot;11th Grade Average ACT (2011)&quot; TEXT,<br>  &quot;Net_Change_PLAN_and_ACT&quot; TEXT,<br>  &quot;College_Eligibility__&quot; TEXT,<br>  &quot;Graduation_Rate__&quot; TEXT,<br>  &quot;College_Enrollment_Rate__&quot; TEXT,<br>  &quot;COLLEGE_ENROLLMENT&quot; INTEGER,<br>  &quot;General_Services_Route&quot; INTEGER,<br>  &quot;Freshman_on_Track_Rate__&quot; TEXT,<br>  &quot;X_COORDINATE&quot; REAL,<br>  &quot;Y_COORDINATE&quot; REAL,<br>  &quot;Latitude&quot; REAL,<br>  &quot;Longitude&quot; REAL,<br>  &quot;COMMUNITY_AREA_NUMBER&quot; INTEGER,<br>  &quot;COMMUNITY_AREA_NAME&quot; TEXT,<br>  &quot;Ward&quot; INTEGER,<br>  &quot;Police_District&quot; INTEGER,<br>  &quot;Location&quot; TEXT<br>)</td>\n",
       "        </tr>\n",
       "        <tr>\n",
       "            <td>Census_data</td>\n",
       "            <td>CREATE TABLE &quot;Census_data&quot; (<br>&quot;COMMUNITY_AREA_NUMBER&quot; REAL,<br>  &quot;COMMUNITY_AREA_NAME&quot; TEXT,<br>  &quot;PERCENT_OF_HOUSING_CROWDED&quot; REAL,<br>  &quot;PERCENT_HOUSEHOLDS_BELOW_POVERTY&quot; REAL,<br>  &quot;PERCENT_AGED_16__UNEMPLOYED&quot; REAL,<br>  &quot;PERCENT_AGED_25__WITHOUT_HIGH_SCHOOL_DIPLOMA&quot; REAL,<br>  &quot;PERCENT_AGED_UNDER_18_OR_OVER_64&quot; REAL,<br>  &quot;PER_CAPITA_INCOME&quot; INTEGER,<br>  &quot;HARDSHIP_INDEX&quot; REAL<br>)</td>\n",
       "        </tr>\n",
       "        <tr>\n",
       "            <td>Crime_data</td>\n",
       "            <td>CREATE TABLE &quot;Crime_data&quot; (<br>&quot;ID&quot; INTEGER,<br>  &quot;CASE_NUMBER&quot; TEXT,<br>  &quot;DATE&quot; TEXT,<br>  &quot;BLOCK&quot; TEXT,<br>  &quot;IUCR&quot; TEXT,<br>  &quot;PRIMARY_TYPE&quot; TEXT,<br>  &quot;DESCRIPTION&quot; TEXT,<br>  &quot;LOCATION_DESCRIPTION&quot; TEXT,<br>  &quot;ARREST&quot; INTEGER,<br>  &quot;DOMESTIC&quot; INTEGER,<br>  &quot;BEAT&quot; INTEGER,<br>  &quot;DISTRICT&quot; INTEGER,<br>  &quot;WARD&quot; REAL,<br>  &quot;COMMUNITY_AREA_NUMBER&quot; REAL,<br>  &quot;FBICODE&quot; TEXT,<br>  &quot;X_COORDINATE&quot; REAL,<br>  &quot;Y_COORDINATE&quot; REAL,<br>  &quot;YEAR&quot; INTEGER,<br>  &quot;LATITUDE&quot; REAL,<br>  &quot;LONGITUDE&quot; REAL,<br>  &quot;LOCATION&quot; TEXT<br>)</td>\n",
       "        </tr>\n",
       "    </tbody>\n",
       "</table>"
      ],
      "text/plain": [
       "[('ChicagoSocEco_data', 'CREATE TABLE \"ChicagoSocEco_data\" (\\n\"ca\" REAL,\\n  \"community_area_name\" TEXT,\\n  \"percent_of_housing_crowded\" REAL,\\n  \"percent_households_below_pov ... (60 characters truncated) ... t_aged_25_without_high_school_diploma\" REAL,\\n  \"percent_aged_under_18_or_over_64\" REAL,\\n  \"per_capita_income_\" INTEGER,\\n  \"hardship_index\" REAL\\n)'),\n",
       " ('PubSchool_data', 'CREATE TABLE \"PubSchool_data\" (\\n\"School_ID\" INTEGER,\\n  \"NAME_OF_SCHOOL\" TEXT,\\n  \"Elementary, Middle, or High School\" TEXT,\\n  \"Street_Address\" TEX ... (2209 characters truncated) ... tude\" REAL,\\n  \"COMMUNITY_AREA_NUMBER\" INTEGER,\\n  \"COMMUNITY_AREA_NAME\" TEXT,\\n  \"Ward\" INTEGER,\\n  \"Police_District\" INTEGER,\\n  \"Location\" TEXT\\n)'),\n",
       " ('Census_data', 'CREATE TABLE \"Census_data\" (\\n\"COMMUNITY_AREA_NUMBER\" REAL,\\n  \"COMMUNITY_AREA_NAME\" TEXT,\\n  \"PERCENT_OF_HOUSING_CROWDED\" REAL,\\n  \"PERCENT_HOUSEHOL ... (73 characters truncated) ... T_AGED_25__WITHOUT_HIGH_SCHOOL_DIPLOMA\" REAL,\\n  \"PERCENT_AGED_UNDER_18_OR_OVER_64\" REAL,\\n  \"PER_CAPITA_INCOME\" INTEGER,\\n  \"HARDSHIP_INDEX\" REAL\\n)'),\n",
       " ('Crime_data', 'CREATE TABLE \"Crime_data\" (\\n\"ID\" INTEGER,\\n  \"CASE_NUMBER\" TEXT,\\n  \"DATE\" TEXT,\\n  \"BLOCK\" TEXT,\\n  \"IUCR\" TEXT,\\n  \"PRIMARY_TYPE\" TEXT,\\n  \"DESCRI ... (179 characters truncated) ... \\n  \"FBICODE\" TEXT,\\n  \"X_COORDINATE\" REAL,\\n  \"Y_COORDINATE\" REAL,\\n  \"YEAR\" INTEGER,\\n  \"LATITUDE\" REAL,\\n  \"LONGITUDE\" REAL,\\n  \"LOCATION\" TEXT\\n)')]"
      ]
     },
     "execution_count": 250,
     "metadata": {},
     "output_type": "execute_result"
    }
   ],
   "source": [
    "%sql SELECT name, sql FROM sqlite_master;"
   ]
  },
  {
   "cell_type": "code",
   "execution_count": 258,
   "id": "e3cef70c-799a-4cbd-8f5f-dfb766528769",
   "metadata": {},
   "outputs": [
    {
     "name": "stdout",
     "output_type": "stream",
     "text": [
      " * sqlite:///ChicagoSocEco.db\n",
      "   sqlite:///FinalDB.db\n",
      "   sqlite:///INSTRUCTOR.db\n",
      "   sqlite:///Pet.db\n",
      "   sqlite:///RealWorldData.db\n",
      "   sqlite:///SQLiteMagic.db\n",
      "Done.\n"
     ]
    },
    {
     "data": {
      "text/html": [
       "<table>\n",
       "    <thead>\n",
       "        <tr>\n",
       "            <th>CASE_NUMBER</th>\n",
       "            <th>PRIMARY_TYPE</th>\n",
       "            <th>COMMUNITY_AREA_NAME</th>\n",
       "        </tr>\n",
       "    </thead>\n",
       "    <tbody>\n",
       "        <tr>\n",
       "            <td>JA560123</td>\n",
       "            <td>CRIMINAL DAMAGE</td>\n",
       "            <td>Montclaire</td>\n",
       "        </tr>\n",
       "        <tr>\n",
       "            <td>JA107722</td>\n",
       "            <td>OTHER OFFENSE</td>\n",
       "            <td>Montclaire</td>\n",
       "        </tr>\n",
       "    </tbody>\n",
       "</table>"
      ],
      "text/plain": [
       "[('JA560123', 'CRIMINAL DAMAGE', 'Montclaire'),\n",
       " ('JA107722', 'OTHER OFFENSE', 'Montclaire')]"
      ]
     },
     "execution_count": 258,
     "metadata": {},
     "output_type": "execute_result"
    }
   ],
   "source": [
    "%sql SELECT CD.CASE_NUMBER, CD.PRIMARY_TYPE, CS.COMMUNITY_AREA_NAME FROM CRIME_DATA CD INNER JOIN CENSUS_DATA CS\\\n",
    "ON CD.COMMUNITY_AREA_NUMBER = CS.COMMUNITY_AREA_NUMBER WHERE CS.COMMUNITY_AREA_NUMBER = 18;"
   ]
  },
  {
   "cell_type": "code",
   "execution_count": 261,
   "id": "edf0fb90-a441-400e-9a64-b9740a692bd0",
   "metadata": {},
   "outputs": [
    {
     "name": "stdout",
     "output_type": "stream",
     "text": [
      " * sqlite:///ChicagoSocEco.db\n",
      "   sqlite:///FinalDB.db\n",
      "   sqlite:///INSTRUCTOR.db\n",
      "   sqlite:///Pet.db\n",
      "   sqlite:///RealWorldData.db\n",
      "   sqlite:///SQLiteMagic.db\n",
      "Done.\n"
     ]
    },
    {
     "data": {
      "text/html": [
       "<table>\n",
       "    <thead>\n",
       "        <tr>\n",
       "            <th>CASE_NUMBER</th>\n",
       "            <th>PRIMARY_TYPE</th>\n",
       "            <th>COMMUNITY_AREA_NAME</th>\n",
       "        </tr>\n",
       "    </thead>\n",
       "    <tbody>\n",
       "        <tr>\n",
       "            <td>HL353697</td>\n",
       "            <td>BATTERY</td>\n",
       "            <td>South Shore</td>\n",
       "        </tr>\n",
       "        <tr>\n",
       "            <td>HL725506</td>\n",
       "            <td>BATTERY</td>\n",
       "            <td>Lincoln Square</td>\n",
       "        </tr>\n",
       "        <tr>\n",
       "            <td>HP716225</td>\n",
       "            <td>BATTERY</td>\n",
       "            <td>Douglas</td>\n",
       "        </tr>\n",
       "        <tr>\n",
       "            <td>HH639427</td>\n",
       "            <td>BATTERY</td>\n",
       "            <td>Austin</td>\n",
       "        </tr>\n",
       "        <tr>\n",
       "            <td>JA460432</td>\n",
       "            <td>BATTERY</td>\n",
       "            <td>Ashburn</td>\n",
       "        </tr>\n",
       "        <tr>\n",
       "            <td>HS200939</td>\n",
       "            <td>CRIMINAL DAMAGE</td>\n",
       "            <td>Austin</td>\n",
       "        </tr>\n",
       "        <tr>\n",
       "            <td>HK577020</td>\n",
       "            <td>NARCOTICS</td>\n",
       "            <td>Rogers Park</td>\n",
       "        </tr>\n",
       "        <tr>\n",
       "            <td>HS305355</td>\n",
       "            <td>NARCOTICS</td>\n",
       "            <td>Brighton Park</td>\n",
       "        </tr>\n",
       "        <tr>\n",
       "            <td>HT315369</td>\n",
       "            <td>ASSAULT</td>\n",
       "            <td>East Garfield Park</td>\n",
       "        </tr>\n",
       "        <tr>\n",
       "            <td>HR585012</td>\n",
       "            <td>CRIMINAL TRESPASS</td>\n",
       "            <td>Ashburn</td>\n",
       "        </tr>\n",
       "    </tbody>\n",
       "</table>"
      ],
      "text/plain": [
       "[('HL353697', 'BATTERY', 'South Shore'),\n",
       " ('HL725506', 'BATTERY', 'Lincoln Square'),\n",
       " ('HP716225', 'BATTERY', 'Douglas'),\n",
       " ('HH639427', 'BATTERY', 'Austin'),\n",
       " ('JA460432', 'BATTERY', 'Ashburn'),\n",
       " ('HS200939', 'CRIMINAL DAMAGE', 'Austin'),\n",
       " ('HK577020', 'NARCOTICS', 'Rogers Park'),\n",
       " ('HS305355', 'NARCOTICS', 'Brighton Park'),\n",
       " ('HT315369', 'ASSAULT', 'East Garfield Park'),\n",
       " ('HR585012', 'CRIMINAL TRESPASS', 'Ashburn')]"
      ]
     },
     "execution_count": 261,
     "metadata": {},
     "output_type": "execute_result"
    }
   ],
   "source": [
    "%sql SELECT CD.CASE_NUMBER, CD.PRIMARY_TYPE, CS.COMMUNITY_AREA_NAME\\\n",
    "FROM CRIME_DATA CD INNER JOIN CENSUS_DATA CS\\\n",
    "ON CD.COMMUNITY_AREA_NUMBER = CS.COMMUNITY_AREA_NUMBER WHERE CD.LOCATION_DESCRIPTION LIKE '%SCHOOL%';"
   ]
  },
  {
   "cell_type": "code",
   "execution_count": null,
   "id": "90e1c87d-ee0c-446e-b8a7-16fe838b8328",
   "metadata": {},
   "outputs": [],
   "source": []
  }
 ],
 "metadata": {
  "kernelspec": {
   "display_name": "Python 3 (ipykernel)",
   "language": "python",
   "name": "python3"
  },
  "language_info": {
   "codemirror_mode": {
    "name": "ipython",
    "version": 3
   },
   "file_extension": ".py",
   "mimetype": "text/x-python",
   "name": "python",
   "nbconvert_exporter": "python",
   "pygments_lexer": "ipython3",
   "version": "3.11.5"
  }
 },
 "nbformat": 4,
 "nbformat_minor": 5
}
