{
 "cells": [
  {
   "cell_type": "code",
   "execution_count": 1,
   "metadata": {},
   "outputs": [],
   "source": [
    "import requests, json\n",
    "import sqlite3\n",
    "%load_ext sql"
   ]
  },
  {
   "cell_type": "code",
   "execution_count": 3,
   "metadata": {},
   "outputs": [],
   "source": [
    "url = 'https://tradestie.com/api/v1/apps/reddit?date=2022-04-03'\n",
    "response = requests.get(url).text\n"
   ]
  },
  {
   "cell_type": "code",
   "execution_count": 4,
   "metadata": {},
   "outputs": [
    {
     "data": {
      "text/plain": [
       "[{'no_of_comments': 131,\n",
       "  'sentiment': 'Bullish',\n",
       "  'sentiment_score': 0.01,\n",
       "  'ticker': 'GME'},\n",
       " {'no_of_comments': 90,\n",
       "  'sentiment': 'Bullish',\n",
       "  'sentiment_score': 0.039,\n",
       "  'ticker': 'AMC'},\n",
       " {'no_of_comments': 25,\n",
       "  'sentiment': 'Bullish',\n",
       "  'sentiment_score': 0.053,\n",
       "  'ticker': 'TSLA'},\n",
       " {'no_of_comments': 21,\n",
       "  'sentiment': 'Bullish',\n",
       "  'sentiment_score': 0.442,\n",
       "  'ticker': 'WISH'},\n",
       " {'no_of_comments': 12,\n",
       "  'sentiment': 'Bearish',\n",
       "  'sentiment_score': -0.061,\n",
       "  'ticker': 'QQQ'},\n",
       " {'no_of_comments': 10,\n",
       "  'sentiment': 'Bullish',\n",
       "  'sentiment_score': 0.104,\n",
       "  'ticker': 'TV'},\n",
       " {'no_of_comments': 9,\n",
       "  'sentiment': 'Bullish',\n",
       "  'sentiment_score': 0.014,\n",
       "  'ticker': 'HMHC'},\n",
       " {'no_of_comments': 8,\n",
       "  'sentiment': 'Bullish',\n",
       "  'sentiment_score': 0.166,\n",
       "  'ticker': 'PAA'},\n",
       " {'no_of_comments': 6,\n",
       "  'sentiment': 'Bullish',\n",
       "  'sentiment_score': 0.095,\n",
       "  'ticker': 'OXY'},\n",
       " {'no_of_comments': 6,\n",
       "  'sentiment': 'Bullish',\n",
       "  'sentiment_score': 0.091,\n",
       "  'ticker': 'AA'},\n",
       " {'no_of_comments': 5,\n",
       "  'sentiment': 'Bullish',\n",
       "  'sentiment_score': 0.525,\n",
       "  'ticker': 'NFLX'},\n",
       " {'no_of_comments': 5,\n",
       "  'sentiment': 'Bearish',\n",
       "  'sentiment_score': -0.182,\n",
       "  'ticker': 'AMD'},\n",
       " {'no_of_comments': 5,\n",
       "  'sentiment': 'Bearish',\n",
       "  'sentiment_score': -0.398,\n",
       "  'ticker': 'ONE'},\n",
       " {'no_of_comments': 5,\n",
       "  'sentiment': 'Bullish',\n",
       "  'sentiment_score': 0.119,\n",
       "  'ticker': 'BABA'},\n",
       " {'no_of_comments': 4,\n",
       "  'sentiment': 'Bullish',\n",
       "  'sentiment_score': 0.279,\n",
       "  'ticker': 'EV'},\n",
       " {'no_of_comments': 4,\n",
       "  'sentiment': 'Bearish',\n",
       "  'sentiment_score': -0.26,\n",
       "  'ticker': 'TA'},\n",
       " {'no_of_comments': 4,\n",
       "  'sentiment': 'Bearish',\n",
       "  'sentiment_score': -0.212,\n",
       "  'ticker': 'PLTR'},\n",
       " {'no_of_comments': 3,\n",
       "  'sentiment': 'Bullish',\n",
       "  'sentiment_score': 0.137,\n",
       "  'ticker': 'ET'},\n",
       " {'no_of_comments': 3,\n",
       "  'sentiment': 'Bearish',\n",
       "  'sentiment_score': -0.137,\n",
       "  'ticker': 'BY'},\n",
       " {'no_of_comments': 3,\n",
       "  'sentiment': 'Bullish',\n",
       "  'sentiment_score': 0.379,\n",
       "  'ticker': 'NVDA'},\n",
       " {'no_of_comments': 3,\n",
       "  'sentiment': None,\n",
       "  'sentiment_score': None,\n",
       "  'ticker': 'TLRY'},\n",
       " {'no_of_comments': 3,\n",
       "  'sentiment': 'Bearish',\n",
       "  'sentiment_score': -0.099,\n",
       "  'ticker': 'ST'},\n",
       " {'no_of_comments': 3,\n",
       "  'sentiment': 'Bearish',\n",
       "  'sentiment_score': -0.246,\n",
       "  'ticker': 'GM'},\n",
       " {'no_of_comments': 3,\n",
       "  'sentiment': 'Bearish',\n",
       "  'sentiment_score': -0.212,\n",
       "  'ticker': 'CLOV'},\n",
       " {'no_of_comments': 3,\n",
       "  'sentiment': 'Bullish',\n",
       "  'sentiment_score': 0.215,\n",
       "  'ticker': 'IRS'},\n",
       " {'no_of_comments': 3,\n",
       "  'sentiment': 'Bearish',\n",
       "  'sentiment_score': -0.183,\n",
       "  'ticker': 'ON'},\n",
       " {'no_of_comments': 3,\n",
       "  'sentiment': 'Bullish',\n",
       "  'sentiment_score': 0.036,\n",
       "  'ticker': 'DTE'},\n",
       " {'no_of_comments': 3,\n",
       "  'sentiment': 'Bearish',\n",
       "  'sentiment_score': -0.043,\n",
       "  'ticker': 'ZIM'},\n",
       " {'no_of_comments': 3,\n",
       "  'sentiment': 'Bullish',\n",
       "  'sentiment_score': 0.547,\n",
       "  'ticker': 'FF'},\n",
       " {'no_of_comments': 3,\n",
       "  'sentiment': 'Bearish',\n",
       "  'sentiment_score': -0.208,\n",
       "  'ticker': 'SNDL'},\n",
       " {'no_of_comments': 2,\n",
       "  'sentiment': 'Bullish',\n",
       "  'sentiment_score': 0.615,\n",
       "  'ticker': 'RC'},\n",
       " {'no_of_comments': 2,\n",
       "  'sentiment': 'Bullish',\n",
       "  'sentiment_score': 0.808,\n",
       "  'ticker': 'FSD'},\n",
       " {'no_of_comments': 2,\n",
       "  'sentiment': 'Bearish',\n",
       "  'sentiment_score': 0.0,\n",
       "  'ticker': 'VEON'},\n",
       " {'no_of_comments': 2,\n",
       "  'sentiment': 'Bullish',\n",
       "  'sentiment_score': 0.539,\n",
       "  'ticker': 'NIO'},\n",
       " {'no_of_comments': 2,\n",
       "  'sentiment': 'Bullish',\n",
       "  'sentiment_score': 0.211,\n",
       "  'ticker': 'TDS'},\n",
       " {'no_of_comments': 2,\n",
       "  'sentiment': 'Bearish',\n",
       "  'sentiment_score': -0.518,\n",
       "  'ticker': 'MD'},\n",
       " {'no_of_comments': 2,\n",
       "  'sentiment': 'Bullish',\n",
       "  'sentiment_score': 0.296,\n",
       "  'ticker': 'UI'},\n",
       " {'no_of_comments': 2,\n",
       "  'sentiment': 'Bullish',\n",
       "  'sentiment_score': 0.447,\n",
       "  'ticker': 'HA'},\n",
       " {'no_of_comments': 2,\n",
       "  'sentiment': 'Bearish',\n",
       "  'sentiment_score': -0.172,\n",
       "  'ticker': 'IRL'},\n",
       " {'no_of_comments': 2,\n",
       "  'sentiment': 'Bullish',\n",
       "  'sentiment_score': 0.477,\n",
       "  'ticker': 'ETH'},\n",
       " {'no_of_comments': 2,\n",
       "  'sentiment': 'Bullish',\n",
       "  'sentiment_score': 0.7,\n",
       "  'ticker': 'MRO'},\n",
       " {'no_of_comments': 2,\n",
       "  'sentiment': 'Bullish',\n",
       "  'sentiment_score': 0.113,\n",
       "  'ticker': 'AMZN'},\n",
       " {'no_of_comments': 2,\n",
       "  'sentiment': 'Bullish',\n",
       "  'sentiment_score': 0.834,\n",
       "  'ticker': 'NH'},\n",
       " {'no_of_comments': 2,\n",
       "  'sentiment': 'Bullish',\n",
       "  'sentiment_score': 0.162,\n",
       "  'ticker': 'IP'},\n",
       " {'no_of_comments': 2,\n",
       "  'sentiment': 'Bullish',\n",
       "  'sentiment_score': 0.058,\n",
       "  'ticker': 'MSM'},\n",
       " {'no_of_comments': 2,\n",
       "  'sentiment': 'Bearish',\n",
       "  'sentiment_score': -0.691,\n",
       "  'ticker': 'GOOGL'},\n",
       " {'no_of_comments': 2,\n",
       "  'sentiment': 'Bullish',\n",
       "  'sentiment_score': 0.404,\n",
       "  'ticker': 'WTI'},\n",
       " {'no_of_comments': 2,\n",
       "  'sentiment': 'Bullish',\n",
       "  'sentiment_score': 0.306,\n",
       "  'ticker': 'NOK'},\n",
       " {'no_of_comments': 1,\n",
       "  'sentiment': 'Bullish',\n",
       "  'sentiment_score': 0.523,\n",
       "  'ticker': 'BOX'},\n",
       " {'no_of_comments': 1,\n",
       "  'sentiment': 'Bullish',\n",
       "  'sentiment_score': 0.637,\n",
       "  'ticker': 'BEST'}]"
      ]
     },
     "execution_count": 4,
     "metadata": {},
     "output_type": "execute_result"
    }
   ],
   "source": [
    "json.loads(response)"
   ]
  },
  {
   "cell_type": "code",
   "execution_count": 5,
   "metadata": {},
   "outputs": [],
   "source": [
    "data = json.loads(response)"
   ]
  },
  {
   "cell_type": "code",
   "execution_count": 6,
   "metadata": {},
   "outputs": [],
   "source": [
    "conn = sqlite3.connect('stockcm.db')\n",
    "cur = conn.cursor()"
   ]
  },
  {
   "cell_type": "code",
   "execution_count": 7,
   "metadata": {},
   "outputs": [
    {
     "data": {
      "text/plain": [
       "dict_keys(['no_of_comments', 'sentiment', 'sentiment_score', 'ticker'])"
      ]
     },
     "execution_count": 7,
     "metadata": {},
     "output_type": "execute_result"
    }
   ],
   "source": [
    "data[0].keys()"
   ]
  },
  {
   "cell_type": "code",
   "execution_count": 8,
   "metadata": {},
   "outputs": [
    {
     "data": {
      "text/plain": [
       "<sqlite3.Cursor at 0x1168869c0>"
      ]
     },
     "execution_count": 8,
     "metadata": {},
     "output_type": "execute_result"
    }
   ],
   "source": [
    "cur.execute('''CREATE TABLE STOCKCM (\n",
    "    no_of_comments INTEGER,\n",
    "    sentiment VARCHAR,\n",
    "    sentiment_score DOUBLE,\n",
    "    ticker VARCHAR\n",
    ")''')"
   ]
  },
  {
   "cell_type": "code",
   "execution_count": 9,
   "metadata": {},
   "outputs": [],
   "source": [
    "query = 'INSERT INTO STOCKCM VALUES(?,?,?,?)'\n",
    "for i in data:\n",
    "    cur.execute(query, (i['no_of_comments'], i['sentiment'], i['sentiment_score'], i['ticker']))\n",
    "conn.commit()"
   ]
  },
  {
   "cell_type": "code",
   "execution_count": 10,
   "metadata": {},
   "outputs": [],
   "source": [
    "%sql sqlite:///stockcm.db"
   ]
  },
  {
   "cell_type": "code",
   "execution_count": 11,
   "metadata": {},
   "outputs": [
    {
     "name": "stdout",
     "output_type": "stream",
     "text": [
      " * sqlite:///stockcm.db\n",
      "Done.\n"
     ]
    },
    {
     "data": {
      "text/html": [
       "<table>\n",
       "    <thead>\n",
       "        <tr>\n",
       "            <th>no_of_comments</th>\n",
       "            <th>sentiment</th>\n",
       "            <th>sentiment_score</th>\n",
       "            <th>ticker</th>\n",
       "        </tr>\n",
       "    </thead>\n",
       "    <tbody>\n",
       "        <tr>\n",
       "            <td>131</td>\n",
       "            <td>Bullish</td>\n",
       "            <td>0.01</td>\n",
       "            <td>GME</td>\n",
       "        </tr>\n",
       "        <tr>\n",
       "            <td>90</td>\n",
       "            <td>Bullish</td>\n",
       "            <td>0.039</td>\n",
       "            <td>AMC</td>\n",
       "        </tr>\n",
       "        <tr>\n",
       "            <td>25</td>\n",
       "            <td>Bullish</td>\n",
       "            <td>0.053</td>\n",
       "            <td>TSLA</td>\n",
       "        </tr>\n",
       "        <tr>\n",
       "            <td>21</td>\n",
       "            <td>Bullish</td>\n",
       "            <td>0.442</td>\n",
       "            <td>WISH</td>\n",
       "        </tr>\n",
       "        <tr>\n",
       "            <td>12</td>\n",
       "            <td>Bearish</td>\n",
       "            <td>-0.061</td>\n",
       "            <td>QQQ</td>\n",
       "        </tr>\n",
       "        <tr>\n",
       "            <td>10</td>\n",
       "            <td>Bullish</td>\n",
       "            <td>0.104</td>\n",
       "            <td>TV</td>\n",
       "        </tr>\n",
       "        <tr>\n",
       "            <td>9</td>\n",
       "            <td>Bullish</td>\n",
       "            <td>0.014</td>\n",
       "            <td>HMHC</td>\n",
       "        </tr>\n",
       "        <tr>\n",
       "            <td>8</td>\n",
       "            <td>Bullish</td>\n",
       "            <td>0.166</td>\n",
       "            <td>PAA</td>\n",
       "        </tr>\n",
       "        <tr>\n",
       "            <td>6</td>\n",
       "            <td>Bullish</td>\n",
       "            <td>0.095</td>\n",
       "            <td>OXY</td>\n",
       "        </tr>\n",
       "        <tr>\n",
       "            <td>6</td>\n",
       "            <td>Bullish</td>\n",
       "            <td>0.091</td>\n",
       "            <td>AA</td>\n",
       "        </tr>\n",
       "    </tbody>\n",
       "</table>"
      ],
      "text/plain": [
       "[(131, 'Bullish', 0.01, 'GME'),\n",
       " (90, 'Bullish', 0.039, 'AMC'),\n",
       " (25, 'Bullish', 0.053, 'TSLA'),\n",
       " (21, 'Bullish', 0.442, 'WISH'),\n",
       " (12, 'Bearish', -0.061, 'QQQ'),\n",
       " (10, 'Bullish', 0.104, 'TV'),\n",
       " (9, 'Bullish', 0.014, 'HMHC'),\n",
       " (8, 'Bullish', 0.166, 'PAA'),\n",
       " (6, 'Bullish', 0.095, 'OXY'),\n",
       " (6, 'Bullish', 0.091, 'AA')]"
      ]
     },
     "execution_count": 11,
     "metadata": {},
     "output_type": "execute_result"
    }
   ],
   "source": [
    "%%sql\n",
    "SELECT * FROM STOCKCM LIMIT 10;"
   ]
  },
  {
   "cell_type": "code",
   "execution_count": null,
   "metadata": {},
   "outputs": [
    {
     "name": "stdout",
     "output_type": "stream",
     "text": [
      " * sqlite:///stockcm.db\n",
      "Done.\n"
     ]
    },
    {
     "data": {
      "text/html": [
       "<table>\n",
       "    <thead>\n",
       "        <tr>\n",
       "            <th>COUNT(*)</th>\n",
       "        </tr>\n",
       "    </thead>\n",
       "    <tbody>\n",
       "        <tr>\n",
       "            <td>50</td>\n",
       "        </tr>\n",
       "    </tbody>\n",
       "</table>"
      ],
      "text/plain": [
       "[(50,)]"
      ]
     },
     "metadata": {},
     "output_type": "display_data"
    }
   ],
   "source": [
    "%%sql\n",
    "SELECT COUNT(*) FROM STOCKCM;"
   ]
  },
  {
   "cell_type": "code",
   "execution_count": 12,
   "metadata": {},
   "outputs": [
    {
     "name": "stdout",
     "output_type": "stream",
     "text": [
      " * sqlite:///stockcm.db\n",
      "Done.\n"
     ]
    },
    {
     "data": {
      "text/html": [
       "<table>\n",
       "    <thead>\n",
       "        <tr>\n",
       "            <th>sentiment</th>\n",
       "            <th>count(*)</th>\n",
       "        </tr>\n",
       "    </thead>\n",
       "    <tbody>\n",
       "        <tr>\n",
       "            <td>None</td>\n",
       "            <td>1</td>\n",
       "        </tr>\n",
       "        <tr>\n",
       "            <td>Bearish</td>\n",
       "            <td>16</td>\n",
       "        </tr>\n",
       "        <tr>\n",
       "            <td>Bullish</td>\n",
       "            <td>33</td>\n",
       "        </tr>\n",
       "    </tbody>\n",
       "</table>"
      ],
      "text/plain": [
       "[(None, 1), ('Bearish', 16), ('Bullish', 33)]"
      ]
     },
     "execution_count": 12,
     "metadata": {},
     "output_type": "execute_result"
    }
   ],
   "source": [
    "%%sql\n",
    "SELECT sentiment, count(*)\n",
    "FROM STOCKCM\n",
    "GROUP BY sentiment;"
   ]
  },
  {
   "cell_type": "code",
   "execution_count": 16,
   "metadata": {},
   "outputs": [
    {
     "name": "stdout",
     "output_type": "stream",
     "text": [
      " * sqlite:///stockcm.db\n",
      "1 rows affected.\n"
     ]
    },
    {
     "data": {
      "text/plain": [
       "[]"
      ]
     },
     "execution_count": 16,
     "metadata": {},
     "output_type": "execute_result"
    }
   ],
   "source": [
    "%%sql\n",
    "DELETE FROM STOCKCM\n",
    "WHERE sentiment IS NULL;"
   ]
  },
  {
   "cell_type": "code",
   "execution_count": 22,
   "metadata": {},
   "outputs": [
    {
     "name": "stdout",
     "output_type": "stream",
     "text": [
      " * sqlite:///stockcm.db\n",
      "Done.\n"
     ]
    },
    {
     "data": {
      "text/html": [
       "<table>\n",
       "    <thead>\n",
       "        <tr>\n",
       "            <th>sentiment</th>\n",
       "            <th>AVERAGE_SCORE</th>\n",
       "        </tr>\n",
       "    </thead>\n",
       "    <tbody>\n",
       "        <tr>\n",
       "            <td>Bearish</td>\n",
       "            <td>-0.23</td>\n",
       "        </tr>\n",
       "        <tr>\n",
       "            <td>Bullish</td>\n",
       "            <td>0.31</td>\n",
       "        </tr>\n",
       "    </tbody>\n",
       "</table>"
      ],
      "text/plain": [
       "[('Bearish', -0.23), ('Bullish', 0.31)]"
      ]
     },
     "execution_count": 22,
     "metadata": {},
     "output_type": "execute_result"
    }
   ],
   "source": [
    "%%sql\n",
    "SELECT sentiment, ROUND(avg(sentiment_score), 2) AVERAGE_SCORE\n",
    "FROM STOCKCM\n",
    "GROUP BY sentiment;"
   ]
  },
  {
   "cell_type": "code",
   "execution_count": 23,
   "metadata": {},
   "outputs": [
    {
     "name": "stdout",
     "output_type": "stream",
     "text": [
      " * sqlite:///stockcm.db\n",
      "Done.\n"
     ]
    },
    {
     "data": {
      "text/html": [
       "<table>\n",
       "    <thead>\n",
       "        <tr>\n",
       "            <th>SUM(no_of_comments)</th>\n",
       "        </tr>\n",
       "    </thead>\n",
       "    <tbody>\n",
       "        <tr>\n",
       "            <td>59</td>\n",
       "        </tr>\n",
       "    </tbody>\n",
       "</table>"
      ],
      "text/plain": [
       "[(59,)]"
      ]
     },
     "execution_count": 23,
     "metadata": {},
     "output_type": "execute_result"
    }
   ],
   "source": [
    "%%sql\n",
    "\n",
    "SELECT SUM(no_of_comments)\n",
    "FROM STOCKCM\n",
    "WHERE sentiment = 'Bearish'"
   ]
  },
  {
   "cell_type": "code",
   "execution_count": 25,
   "metadata": {},
   "outputs": [
    {
     "name": "stdout",
     "output_type": "stream",
     "text": [
      " * sqlite:///stockcm.db\n",
      "Done.\n"
     ]
    },
    {
     "data": {
      "text/html": [
       "<table>\n",
       "    <thead>\n",
       "        <tr>\n",
       "            <th>no_of_comments</th>\n",
       "            <th>sentiment</th>\n",
       "            <th>sentiment_score</th>\n",
       "            <th>ticker</th>\n",
       "        </tr>\n",
       "    </thead>\n",
       "    <tbody>\n",
       "        <tr>\n",
       "            <td>2</td>\n",
       "            <td>Bullish</td>\n",
       "            <td>0.834</td>\n",
       "            <td>NH</td>\n",
       "        </tr>\n",
       "    </tbody>\n",
       "</table>"
      ],
      "text/plain": [
       "[(2, 'Bullish', 0.834, 'NH')]"
      ]
     },
     "execution_count": 25,
     "metadata": {},
     "output_type": "execute_result"
    }
   ],
   "source": [
    "%%sql\n",
    "SELECT * FROM STOCKCM\n",
    "WHERE sentiment_score = (SELECT MAX(sentiment_score) FROM STOCKCM);"
   ]
  },
  {
   "cell_type": "code",
   "execution_count": 30,
   "metadata": {},
   "outputs": [
    {
     "name": "stdout",
     "output_type": "stream",
     "text": [
      " * sqlite:///stockcm.db\n",
      "Done.\n"
     ]
    },
    {
     "data": {
      "text/html": [
       "<table>\n",
       "    <thead>\n",
       "        <tr>\n",
       "            <th>sentiment</th>\n",
       "            <th>COUNT(ticker)</th>\n",
       "        </tr>\n",
       "    </thead>\n",
       "    <tbody>\n",
       "        <tr>\n",
       "            <td>Bullish</td>\n",
       "            <td>33</td>\n",
       "        </tr>\n",
       "        <tr>\n",
       "            <td>Bearish</td>\n",
       "            <td>16</td>\n",
       "        </tr>\n",
       "    </tbody>\n",
       "</table>"
      ],
      "text/plain": [
       "[('Bullish', 33), ('Bearish', 16)]"
      ]
     },
     "execution_count": 30,
     "metadata": {},
     "output_type": "execute_result"
    }
   ],
   "source": [
    "%%sql\n",
    "SELECT sentiment, COUNT(ticker)\n",
    "FROM STOCKCM\n",
    "GROUP BY sentiment\n",
    "HAVING no_of_comments > 5 ORDER BY no_of_comments DESC;"
   ]
  },
  {
   "cell_type": "code",
   "execution_count": null,
   "metadata": {},
   "outputs": [],
   "source": []
  }
 ],
 "metadata": {
  "kernelspec": {
   "display_name": "dhuy",
   "language": "python",
   "name": "python3"
  },
  "language_info": {
   "codemirror_mode": {
    "name": "ipython",
    "version": 3
   },
   "file_extension": ".py",
   "mimetype": "text/x-python",
   "name": "python",
   "nbconvert_exporter": "python",
   "pygments_lexer": "ipython3",
   "version": "3.11.5"
  }
 },
 "nbformat": 4,
 "nbformat_minor": 2
}
